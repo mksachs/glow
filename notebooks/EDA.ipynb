{
 "cells": [
  {
   "cell_type": "code",
   "execution_count": 1,
   "metadata": {},
   "outputs": [],
   "source": [
    "import pickle\n",
    "\n",
    "import pandas as pd\n",
    "import seaborn as sns\n",
    "import numpy as np\n",
    "import matplotlib.pyplot as plt\n",
    "\n",
    "from sklearn.decomposition import PCA\n",
    "\n",
    "from sklearn.metrics import (\n",
    "    accuracy_score, f1_score, precision_score, recall_score, confusion_matrix, roc_auc_score,\n",
    "    precision_recall_curve, roc_curve\n",
    ")\n",
    "\n",
    "from sklearn.model_selection import (\n",
    "    cross_val_score, validation_curve, learning_curve, train_test_split, GridSearchCV\n",
    ")\n",
    "from sklearn.compose import ColumnTransformer\n",
    "from sklearn.pipeline import Pipeline\n",
    "from sklearn.impute import SimpleImputer\n",
    "from sklearn.preprocessing import StandardScaler, OneHotEncoder\n",
    "\n",
    "from sklearn.naive_bayes import GaussianNB\n",
    "from sklearn.svm import SVC\n",
    "from sklearn.linear_model import LogisticRegression\n",
    "from sklearn.ensemble import RandomForestClassifier, GradientBoostingClassifier\n",
    "\n",
    "import sklearn.exceptions\n",
    "import warnings\n",
    "warnings.filterwarnings('ignore', category=FutureWarning)\n",
    "warnings.filterwarnings('ignore', category=sklearn.exceptions.ConvergenceWarning)\n",
    "\n",
    "all_classifiers = (GaussianNB, LogisticRegression, RandomForestClassifier)\n",
    "sns.set(font_scale=1)\n",
    "pd.set_option('display.max_rows', 30)\n",
    "%matplotlib inline"
   ]
  },
  {
   "cell_type": "markdown",
   "metadata": {},
   "source": [
    "Load the raw data and look at the feature distribution"
   ]
  },
  {
   "cell_type": "code",
   "execution_count": 2,
   "metadata": {},
   "outputs": [],
   "source": [
    "raw_data = pd.read_csv('../instructions/worker_accident_dataset.csv', dtype={'had_accident': 'bool'})"
   ]
  },
  {
   "cell_type": "code",
   "execution_count": 3,
   "metadata": {},
   "outputs": [
    {
     "data": {
      "text/html": [
       "<div>\n",
       "<style scoped>\n",
       "    .dataframe tbody tr th:only-of-type {\n",
       "        vertical-align: middle;\n",
       "    }\n",
       "\n",
       "    .dataframe tbody tr th {\n",
       "        vertical-align: top;\n",
       "    }\n",
       "\n",
       "    .dataframe thead th {\n",
       "        text-align: right;\n",
       "    }\n",
       "</style>\n",
       "<table border=\"1\" class=\"dataframe\">\n",
       "  <thead>\n",
       "    <tr style=\"text-align: right;\">\n",
       "      <th></th>\n",
       "      <th>risk_score</th>\n",
       "      <th>gender</th>\n",
       "      <th>age</th>\n",
       "      <th>years_experience</th>\n",
       "      <th>role</th>\n",
       "      <th>company</th>\n",
       "      <th>state</th>\n",
       "      <th>hours_worked_per_week</th>\n",
       "    </tr>\n",
       "    <tr>\n",
       "      <th>had_accident</th>\n",
       "      <th></th>\n",
       "      <th></th>\n",
       "      <th></th>\n",
       "      <th></th>\n",
       "      <th></th>\n",
       "      <th></th>\n",
       "      <th></th>\n",
       "      <th></th>\n",
       "    </tr>\n",
       "  </thead>\n",
       "  <tbody>\n",
       "    <tr>\n",
       "      <th>False</th>\n",
       "      <td>94616</td>\n",
       "      <td>94616</td>\n",
       "      <td>94616</td>\n",
       "      <td>94616</td>\n",
       "      <td>94616</td>\n",
       "      <td>94616</td>\n",
       "      <td>94616</td>\n",
       "      <td>94616</td>\n",
       "    </tr>\n",
       "    <tr>\n",
       "      <th>True</th>\n",
       "      <td>5384</td>\n",
       "      <td>5384</td>\n",
       "      <td>5384</td>\n",
       "      <td>5384</td>\n",
       "      <td>5384</td>\n",
       "      <td>5384</td>\n",
       "      <td>5384</td>\n",
       "      <td>5384</td>\n",
       "    </tr>\n",
       "  </tbody>\n",
       "</table>\n",
       "</div>"
      ],
      "text/plain": [
       "              risk_score  gender    age  years_experience   role  company  \\\n",
       "had_accident                                                                \n",
       "False              94616   94616  94616             94616  94616    94616   \n",
       "True                5384    5384   5384              5384   5384     5384   \n",
       "\n",
       "              state  hours_worked_per_week  \n",
       "had_accident                                \n",
       "False         94616                  94616  \n",
       "True           5384                   5384  "
      ]
     },
     "execution_count": 3,
     "metadata": {},
     "output_type": "execute_result"
    }
   ],
   "source": [
    "raw_data.groupby(['had_accident']).count()"
   ]
  },
  {
   "cell_type": "code",
   "execution_count": 233,
   "metadata": {
    "collapsed": true
   },
   "outputs": [
    {
     "data": {
      "text/plain": [
       "<matplotlib.axes._subplots.AxesSubplot at 0x110f2fc18>"
      ]
     },
     "execution_count": 233,
     "metadata": {},
     "output_type": "execute_result"
    },
    {
     "data": {
      "image/png": "[encoded data removed]",
      "text/plain": [
       "<Figure size 432x288 with 1 Axes>"
      ]
     },
     "metadata": {
      "needs_background": "light"
     },
     "output_type": "display_data"
    }
   ],
   "source": [
    "sns.distplot(raw_data['risk_score'])"
   ]
  },
  {
   "cell_type": "code",
   "execution_count": 234,
   "metadata": {
    "collapsed": true
   },
   "outputs": [
    {
     "data": {
      "text/plain": [
       "<matplotlib.axes._subplots.AxesSubplot at 0x11225efd0>"
      ]
     },
     "execution_count": 234,
     "metadata": {},
     "output_type": "execute_result"
    },
    {
     "data": {
      "image/png": "[encoded data removed]",
      "text/plain": [
       "<Figure size 432x288 with 1 Axes>"
      ]
     },
     "metadata": {
      "needs_background": "light"
     },
     "output_type": "display_data"
    }
   ],
   "source": [
    "sns.distplot(raw_data['age'])"
   ]
  },
  {
   "cell_type": "code",
   "execution_count": 235,
   "metadata": {
    "collapsed": true
   },
   "outputs": [
    {
     "data": {
      "text/plain": [
       "<matplotlib.axes._subplots.AxesSubplot at 0x1427032e8>"
      ]
     },
     "execution_count": 235,
     "metadata": {},
     "output_type": "execute_result"
    },
    {
     "data": {
      "image/png": "[encoded data removed]",
      "text/plain": [
       "<Figure size 432x288 with 1 Axes>"
      ]
     },
     "metadata": {
      "needs_background": "light"
     },
     "output_type": "display_data"
    }
   ],
   "source": [
    "sns.distplot(raw_data['years_experience'])"
   ]
  },
  {
   "cell_type": "code",
   "execution_count": 236,
   "metadata": {
    "collapsed": true
   },
   "outputs": [
    {
     "data": {
      "text/plain": [
       "<matplotlib.axes._subplots.AxesSubplot at 0x112b43358>"
      ]
     },
     "execution_count": 236,
     "metadata": {},
     "output_type": "execute_result"
    },
    {
     "data": {
      "image/png": "[encoded data removed]",
      "text/plain": [
       "<Figure size 432x288 with 1 Axes>"
      ]
     },
     "metadata": {
      "needs_background": "light"
     },
     "output_type": "display_data"
    }
   ],
   "source": [
    "sns.distplot(raw_data['hours_worked_per_week'])"
   ]
  },
  {
   "cell_type": "code",
   "execution_count": 285,
   "metadata": {
    "collapsed": true
   },
   "outputs": [
    {
     "data": {
      "text/html": [
       "<div>\n",
       "<style scoped>\n",
       "    .dataframe tbody tr th:only-of-type {\n",
       "        vertical-align: middle;\n",
       "    }\n",
       "\n",
       "    .dataframe tbody tr th {\n",
       "        vertical-align: top;\n",
       "    }\n",
       "\n",
       "    .dataframe thead th {\n",
       "        text-align: right;\n",
       "    }\n",
       "</style>\n",
       "<table border=\"1\" class=\"dataframe\">\n",
       "  <thead>\n",
       "    <tr style=\"text-align: right;\">\n",
       "      <th></th>\n",
       "      <th>risk_score</th>\n",
       "      <th>gender</th>\n",
       "      <th>age</th>\n",
       "      <th>years_experience</th>\n",
       "      <th>role</th>\n",
       "      <th>company</th>\n",
       "      <th>state</th>\n",
       "      <th>hours_worked_per_week</th>\n",
       "      <th>had_accident</th>\n",
       "    </tr>\n",
       "  </thead>\n",
       "  <tbody>\n",
       "    <tr>\n",
       "      <th>0</th>\n",
       "      <td>5.736603</td>\n",
       "      <td>M</td>\n",
       "      <td>52.0</td>\n",
       "      <td>38.0</td>\n",
       "      <td>Employee</td>\n",
       "      <td>36</td>\n",
       "      <td>3.0</td>\n",
       "      <td>28.672870</td>\n",
       "      <td>False</td>\n",
       "    </tr>\n",
       "    <tr>\n",
       "      <th>1</th>\n",
       "      <td>5.944097</td>\n",
       "      <td>F</td>\n",
       "      <td>30.0</td>\n",
       "      <td>33.0</td>\n",
       "      <td>Employee</td>\n",
       "      <td>7</td>\n",
       "      <td>0.0</td>\n",
       "      <td>40.868965</td>\n",
       "      <td>False</td>\n",
       "    </tr>\n",
       "    <tr>\n",
       "      <th>2</th>\n",
       "      <td>5.308688</td>\n",
       "      <td>F</td>\n",
       "      <td>24.0</td>\n",
       "      <td>4.0</td>\n",
       "      <td>Employee</td>\n",
       "      <td>10</td>\n",
       "      <td>1.0</td>\n",
       "      <td>23.238966</td>\n",
       "      <td>False</td>\n",
       "    </tr>\n",
       "    <tr>\n",
       "      <th>3</th>\n",
       "      <td>3.169367</td>\n",
       "      <td>F</td>\n",
       "      <td>42.0</td>\n",
       "      <td>18.0</td>\n",
       "      <td>Manager</td>\n",
       "      <td>89</td>\n",
       "      <td>8.0</td>\n",
       "      <td>22.421832</td>\n",
       "      <td>False</td>\n",
       "    </tr>\n",
       "    <tr>\n",
       "      <th>4</th>\n",
       "      <td>4.211781</td>\n",
       "      <td>F</td>\n",
       "      <td>37.0</td>\n",
       "      <td>20.0</td>\n",
       "      <td>Manager</td>\n",
       "      <td>1</td>\n",
       "      <td>0.0</td>\n",
       "      <td>44.144834</td>\n",
       "      <td>False</td>\n",
       "    </tr>\n",
       "    <tr>\n",
       "      <th>5</th>\n",
       "      <td>5.597752</td>\n",
       "      <td>F</td>\n",
       "      <td>73.0</td>\n",
       "      <td>36.0</td>\n",
       "      <td>Employee</td>\n",
       "      <td>20</td>\n",
       "      <td>2.0</td>\n",
       "      <td>38.001743</td>\n",
       "      <td>False</td>\n",
       "    </tr>\n",
       "    <tr>\n",
       "      <th>6</th>\n",
       "      <td>4.435424</td>\n",
       "      <td>M</td>\n",
       "      <td>24.0</td>\n",
       "      <td>6.0</td>\n",
       "      <td>Employee</td>\n",
       "      <td>41</td>\n",
       "      <td>4.0</td>\n",
       "      <td>57.901800</td>\n",
       "      <td>False</td>\n",
       "    </tr>\n",
       "    <tr>\n",
       "      <th>7</th>\n",
       "      <td>7.775972</td>\n",
       "      <td>F</td>\n",
       "      <td>42.0</td>\n",
       "      <td>10.0</td>\n",
       "      <td>Employee</td>\n",
       "      <td>81</td>\n",
       "      <td>8.0</td>\n",
       "      <td>56.573606</td>\n",
       "      <td>True</td>\n",
       "    </tr>\n",
       "    <tr>\n",
       "      <th>8</th>\n",
       "      <td>7.318181</td>\n",
       "      <td>F</td>\n",
       "      <td>25.0</td>\n",
       "      <td>9.0</td>\n",
       "      <td>Employee</td>\n",
       "      <td>98</td>\n",
       "      <td>9.0</td>\n",
       "      <td>26.239097</td>\n",
       "      <td>False</td>\n",
       "    </tr>\n",
       "    <tr>\n",
       "      <th>9</th>\n",
       "      <td>7.274954</td>\n",
       "      <td>F</td>\n",
       "      <td>70.0</td>\n",
       "      <td>35.0</td>\n",
       "      <td>Employee</td>\n",
       "      <td>42</td>\n",
       "      <td>4.0</td>\n",
       "      <td>36.914861</td>\n",
       "      <td>False</td>\n",
       "    </tr>\n",
       "  </tbody>\n",
       "</table>\n",
       "</div>"
      ],
      "text/plain": [
       "   risk_score gender   age  years_experience      role  company  state  \\\n",
       "0    5.736603      M  52.0              38.0  Employee       36    3.0   \n",
       "1    5.944097      F  30.0              33.0  Employee        7    0.0   \n",
       "2    5.308688      F  24.0               4.0  Employee       10    1.0   \n",
       "3    3.169367      F  42.0              18.0   Manager       89    8.0   \n",
       "4    4.211781      F  37.0              20.0   Manager        1    0.0   \n",
       "5    5.597752      F  73.0              36.0  Employee       20    2.0   \n",
       "6    4.435424      M  24.0               6.0  Employee       41    4.0   \n",
       "7    7.775972      F  42.0              10.0  Employee       81    8.0   \n",
       "8    7.318181      F  25.0               9.0  Employee       98    9.0   \n",
       "9    7.274954      F  70.0              35.0  Employee       42    4.0   \n",
       "\n",
       "   hours_worked_per_week  had_accident  \n",
       "0              28.672870         False  \n",
       "1              40.868965         False  \n",
       "2              23.238966         False  \n",
       "3              22.421832         False  \n",
       "4              44.144834         False  \n",
       "5              38.001743         False  \n",
       "6              57.901800         False  \n",
       "7              56.573606          True  \n",
       "8              26.239097         False  \n",
       "9              36.914861         False  "
      ]
     },
     "execution_count": 285,
     "metadata": {},
     "output_type": "execute_result"
    }
   ],
   "source": [
    "raw_data.head(10)"
   ]
  },
  {
   "cell_type": "markdown",
   "metadata": {},
   "source": [
    "# Analyze GradientBoostingClassifier"
   ]
  },
  {
   "cell_type": "code",
   "execution_count": 4,
   "metadata": {},
   "outputs": [],
   "source": [
    "X = raw_data.drop('had_accident', axis=1)\n",
    "y = raw_data['had_accident']\n",
    "\n",
    "X_train, X_test, y_train, y_test = train_test_split(X, y, test_size=0.5)"
   ]
  },
  {
   "cell_type": "markdown",
   "metadata": {},
   "source": [
    "## GB without numeric scaling"
   ]
  },
  {
   "cell_type": "markdown",
   "metadata": {},
   "source": [
    "### Score on recall"
   ]
  },
  {
   "cell_type": "code",
   "execution_count": 26,
   "metadata": {},
   "outputs": [
    {
     "name": "stdout",
     "output_type": "stream",
     "text": [
      "Best score 0.029661885863861714\n",
      "Best params {'classifier__learning_rate': 0.5, 'classifier__n_estimators': 500}\n"
     ]
    }
   ],
   "source": [
    "# We create the preprocessing pipelines for both numeric and categorical data.\n",
    "numeric_features = ['risk_score', 'age', 'years_experience', 'hours_worked_per_week']\n",
    "numeric_transformer = Pipeline(steps=[\n",
    "    ('imputer', SimpleImputer(strategy='median')),\n",
    "    ('scaler', StandardScaler())\n",
    "])\n",
    "\n",
    "categorical_features = ['gender', 'role', 'company', 'state']\n",
    "categorical_transformer = Pipeline(steps=[\n",
    "    ('imputer', SimpleImputer(strategy='constant', fill_value='missing')),\n",
    "    ('onehot', OneHotEncoder(handle_unknown='ignore'))])\n",
    "\n",
    "preprocessor = ColumnTransformer(\n",
    "    transformers=[\n",
    "#         ('num', numeric_transformer, numeric_features),\n",
    "        ('num', 'passthrough', numeric_features),\n",
    "        ('cat', categorical_transformer, categorical_features)\n",
    "    ],\n",
    "    sparse_threshold=0\n",
    ")\n",
    "\n",
    "clf_gb = Pipeline(steps=[('preprocessor', preprocessor),\n",
    "                      ('classifier', GradientBoostingClassifier())])\n",
    "\n",
    "param_grid = {\n",
    "    'classifier__learning_rate': [0.01, 0.1, 0.5],\n",
    "    'classifier__n_estimators': [50, 100, 500],\n",
    "}\n",
    "\n",
    "grid_gb = GridSearchCV(clf_gb, param_grid, cv=3, iid=False, scoring='recall')\n",
    "grid_gb.fit(X_train, y_train)\n",
    "print('Best score', grid_gb.best_score_)\n",
    "print('Best params', grid_gb.best_params_)"
   ]
  },
  {
   "cell_type": "code",
   "execution_count": 27,
   "metadata": {},
   "outputs": [
    {
     "name": "stdout",
     "output_type": "stream",
     "text": [
      "--GradientBoostingClassifier--\n",
      "|    66    |   835    |\n",
      "|   2587   |  46512   |\n",
      "Accuracy: 0.93156\n",
      "Precision: 0.0732519422863485\n",
      "Recall: 0.024877497173011683\n",
      "F1: 0.037141249296567244\n",
      "\n"
     ]
    }
   ],
   "source": [
    "y_pred = grid_gb.predict(X_test)\n",
    "\n",
    "tn, fp, fn, tp = confusion_matrix(y_test, y_pred).ravel()\n",
    "accuracy = accuracy_score(y_test, y_pred)\n",
    "precision = precision_score(y_test, y_pred)\n",
    "recall = recall_score(y_test, y_pred)\n",
    "f1 = f1_score(y_test, y_pred)\n",
    "\n",
    "print(f'--GradientBoostingClassifier--')\n",
    "print(f'|{tp:^10}|{fp:^10}|')\n",
    "print(f'|{fn:^10}|{tn:^10}|')\n",
    "print(f'Accuracy: {accuracy}')\n",
    "print(f'Precision: {precision}')\n",
    "print(f'Recall: {recall}')\n",
    "print(f'F1: {f1}')\n",
    "print()"
   ]
  },
  {
   "cell_type": "markdown",
   "metadata": {},
   "source": [
    "### Score on f1"
   ]
  },
  {
   "cell_type": "code",
   "execution_count": 29,
   "metadata": {
    "collapsed": true
   },
   "outputs": [
    {
     "name": "stderr",
     "output_type": "stream",
     "text": [
      "/Users/michaelsachs/.pyenv/versions/3.7.0/envs/glow/lib/python3.7/site-packages/sklearn/metrics/classification.py:1143: UndefinedMetricWarning: F-score is ill-defined and being set to 0.0 due to no predicted samples.\n",
      "  'precision', 'predicted', average, warn_for)\n",
      "/Users/michaelsachs/.pyenv/versions/3.7.0/envs/glow/lib/python3.7/site-packages/sklearn/metrics/classification.py:1143: UndefinedMetricWarning: F-score is ill-defined and being set to 0.0 due to no predicted samples.\n",
      "  'precision', 'predicted', average, warn_for)\n",
      "/Users/michaelsachs/.pyenv/versions/3.7.0/envs/glow/lib/python3.7/site-packages/sklearn/metrics/classification.py:1143: UndefinedMetricWarning: F-score is ill-defined and being set to 0.0 due to no predicted samples.\n",
      "  'precision', 'predicted', average, warn_for)\n",
      "/Users/michaelsachs/.pyenv/versions/3.7.0/envs/glow/lib/python3.7/site-packages/sklearn/metrics/classification.py:1143: UndefinedMetricWarning: F-score is ill-defined and being set to 0.0 due to no predicted samples.\n",
      "  'precision', 'predicted', average, warn_for)\n",
      "/Users/michaelsachs/.pyenv/versions/3.7.0/envs/glow/lib/python3.7/site-packages/sklearn/metrics/classification.py:1143: UndefinedMetricWarning: F-score is ill-defined and being set to 0.0 due to no predicted samples.\n",
      "  'precision', 'predicted', average, warn_for)\n",
      "/Users/michaelsachs/.pyenv/versions/3.7.0/envs/glow/lib/python3.7/site-packages/sklearn/metrics/classification.py:1143: UndefinedMetricWarning: F-score is ill-defined and being set to 0.0 due to no predicted samples.\n",
      "  'precision', 'predicted', average, warn_for)\n",
      "/Users/michaelsachs/.pyenv/versions/3.7.0/envs/glow/lib/python3.7/site-packages/sklearn/metrics/classification.py:1143: UndefinedMetricWarning: F-score is ill-defined and being set to 0.0 due to no predicted samples.\n",
      "  'precision', 'predicted', average, warn_for)\n",
      "/Users/michaelsachs/.pyenv/versions/3.7.0/envs/glow/lib/python3.7/site-packages/sklearn/metrics/classification.py:1143: UndefinedMetricWarning: F-score is ill-defined and being set to 0.0 due to no predicted samples.\n",
      "  'precision', 'predicted', average, warn_for)\n",
      "/Users/michaelsachs/.pyenv/versions/3.7.0/envs/glow/lib/python3.7/site-packages/sklearn/metrics/classification.py:1143: UndefinedMetricWarning: F-score is ill-defined and being set to 0.0 due to no predicted samples.\n",
      "  'precision', 'predicted', average, warn_for)\n",
      "/Users/michaelsachs/.pyenv/versions/3.7.0/envs/glow/lib/python3.7/site-packages/sklearn/metrics/classification.py:1143: UndefinedMetricWarning: F-score is ill-defined and being set to 0.0 due to no predicted samples.\n",
      "  'precision', 'predicted', average, warn_for)\n",
      "/Users/michaelsachs/.pyenv/versions/3.7.0/envs/glow/lib/python3.7/site-packages/sklearn/metrics/classification.py:1143: UndefinedMetricWarning: F-score is ill-defined and being set to 0.0 due to no predicted samples.\n",
      "  'precision', 'predicted', average, warn_for)\n",
      "/Users/michaelsachs/.pyenv/versions/3.7.0/envs/glow/lib/python3.7/site-packages/sklearn/metrics/classification.py:1143: UndefinedMetricWarning: F-score is ill-defined and being set to 0.0 due to no predicted samples.\n",
      "  'precision', 'predicted', average, warn_for)\n",
      "/Users/michaelsachs/.pyenv/versions/3.7.0/envs/glow/lib/python3.7/site-packages/sklearn/metrics/classification.py:1143: UndefinedMetricWarning: F-score is ill-defined and being set to 0.0 due to no predicted samples.\n",
      "  'precision', 'predicted', average, warn_for)\n",
      "/Users/michaelsachs/.pyenv/versions/3.7.0/envs/glow/lib/python3.7/site-packages/sklearn/metrics/classification.py:1143: UndefinedMetricWarning: F-score is ill-defined and being set to 0.0 due to no predicted samples.\n",
      "  'precision', 'predicted', average, warn_for)\n",
      "/Users/michaelsachs/.pyenv/versions/3.7.0/envs/glow/lib/python3.7/site-packages/sklearn/metrics/classification.py:1143: UndefinedMetricWarning: F-score is ill-defined and being set to 0.0 due to no predicted samples.\n",
      "  'precision', 'predicted', average, warn_for)\n",
      "/Users/michaelsachs/.pyenv/versions/3.7.0/envs/glow/lib/python3.7/site-packages/sklearn/metrics/classification.py:1143: UndefinedMetricWarning: F-score is ill-defined and being set to 0.0 due to no predicted samples.\n",
      "  'precision', 'predicted', average, warn_for)\n"
     ]
    },
    {
     "name": "stdout",
     "output_type": "stream",
     "text": [
      "Best score 0.04449241781956018\n",
      "Best params {'classifier__learning_rate': 0.5, 'classifier__n_estimators': 500}\n"
     ]
    }
   ],
   "source": [
    "param_grid = {\n",
    "    'classifier__learning_rate': [0.01, 0.1, 0.5],\n",
    "    'classifier__n_estimators': [50, 100, 500],\n",
    "}\n",
    "\n",
    "grid_gb = GridSearchCV(clf_gb, param_grid, cv=3, iid=False, scoring='f1')\n",
    "grid_gb.fit(X_train, y_train)\n",
    "print('Best score', grid_gb.best_score_)\n",
    "print('Best params', grid_gb.best_params_)"
   ]
  },
  {
   "cell_type": "code",
   "execution_count": 30,
   "metadata": {},
   "outputs": [
    {
     "name": "stdout",
     "output_type": "stream",
     "text": [
      "--GradientBoostingClassifier--\n",
      "|    65    |   825    |\n",
      "|   2588   |  46522   |\n",
      "Accuracy: 0.93174\n",
      "Precision: 0.07303370786516854\n",
      "Recall: 0.024500565397663022\n",
      "F1: 0.03669206886819079\n",
      "\n"
     ]
    }
   ],
   "source": [
    "y_pred = grid_gb.predict(X_test)\n",
    "\n",
    "tn, fp, fn, tp = confusion_matrix(y_test, y_pred).ravel()\n",
    "accuracy = accuracy_score(y_test, y_pred)\n",
    "precision = precision_score(y_test, y_pred)\n",
    "recall = recall_score(y_test, y_pred)\n",
    "f1 = f1_score(y_test, y_pred)\n",
    "\n",
    "print(f'--GradientBoostingClassifier--')\n",
    "print(f'|{tp:^10}|{fp:^10}|')\n",
    "print(f'|{fn:^10}|{tn:^10}|')\n",
    "print(f'Accuracy: {accuracy}')\n",
    "print(f'Precision: {precision}')\n",
    "print(f'Recall: {recall}')\n",
    "print(f'F1: {f1}')\n",
    "print()"
   ]
  },
  {
   "cell_type": "markdown",
   "metadata": {},
   "source": [
    "## GB with fewer cat features"
   ]
  },
  {
   "cell_type": "code",
   "execution_count": 32,
   "metadata": {},
   "outputs": [
    {
     "name": "stdout",
     "output_type": "stream",
     "text": [
      "Best score 0.034786472217866286\n",
      "Best params {'classifier__learning_rate': 0.5, 'classifier__n_estimators': 500}\n"
     ]
    }
   ],
   "source": [
    "# We create the preprocessing pipelines for both numeric and categorical data.\n",
    "numeric_features = ['risk_score', 'age', 'years_experience', 'hours_worked_per_week', 'company', 'state']\n",
    "numeric_transformer = Pipeline(steps=[\n",
    "    ('imputer', SimpleImputer(strategy='median')),\n",
    "    ('scaler', StandardScaler())\n",
    "])\n",
    "\n",
    "categorical_features = ['gender', 'role']\n",
    "categorical_transformer = Pipeline(steps=[\n",
    "    ('imputer', SimpleImputer(strategy='constant', fill_value='missing')),\n",
    "    ('onehot', OneHotEncoder(handle_unknown='ignore'))])\n",
    "\n",
    "preprocessor = ColumnTransformer(\n",
    "    transformers=[\n",
    "#         ('num', numeric_transformer, numeric_features),\n",
    "        ('num', 'passthrough', numeric_features),\n",
    "        ('cat', categorical_transformer, categorical_features)\n",
    "    ],\n",
    "    sparse_threshold=0\n",
    ")\n",
    "\n",
    "clf_gb = Pipeline(steps=[('preprocessor', preprocessor),\n",
    "                      ('classifier', GradientBoostingClassifier())])\n",
    "\n",
    "param_grid = {\n",
    "    'classifier__learning_rate': [0.01, 0.1, 0.5],\n",
    "    'classifier__n_estimators': [50, 100, 500],\n",
    "}\n",
    "\n",
    "grid_gb = GridSearchCV(clf_gb, param_grid, cv=3, iid=False, scoring='recall')\n",
    "grid_gb.fit(X_train, y_train)\n",
    "print('Best score', grid_gb.best_score_)\n",
    "print('Best params', grid_gb.best_params_)"
   ]
  },
  {
   "cell_type": "code",
   "execution_count": 33,
   "metadata": {},
   "outputs": [
    {
     "name": "stdout",
     "output_type": "stream",
     "text": [
      "--GradientBoostingClassifier--\n",
      "|    77    |   826    |\n",
      "|   2576   |  46521   |\n",
      "Accuracy: 0.93196\n",
      "Precision: 0.08527131782945736\n",
      "Recall: 0.029023746701846966\n",
      "F1: 0.04330708661417323\n",
      "\n"
     ]
    }
   ],
   "source": [
    "y_pred = grid_gb.predict(X_test)\n",
    "\n",
    "tn, fp, fn, tp = confusion_matrix(y_test, y_pred).ravel()\n",
    "accuracy = accuracy_score(y_test, y_pred)\n",
    "precision = precision_score(y_test, y_pred)\n",
    "recall = recall_score(y_test, y_pred)\n",
    "f1 = f1_score(y_test, y_pred)\n",
    "\n",
    "print(f'--GradientBoostingClassifier--')\n",
    "print(f'|{tp:^10}|{fp:^10}|')\n",
    "print(f'|{fn:^10}|{tn:^10}|')\n",
    "print(f'Accuracy: {accuracy}')\n",
    "print(f'Precision: {precision}')\n",
    "print(f'Recall: {recall}')\n",
    "print(f'F1: {f1}')\n",
    "print()"
   ]
  },
  {
   "cell_type": "markdown",
   "metadata": {},
   "source": [
    "### Validation curve"
   ]
  },
  {
   "cell_type": "code",
   "execution_count": 51,
   "metadata": {},
   "outputs": [],
   "source": [
    "param_range = range(1, 2000, 100)\n",
    "clf_gb = Pipeline(\n",
    "    steps=[\n",
    "        ('preprocessor', preprocessor),\n",
    "        ('classifier', GradientBoostingClassifier(learning_rate=0.5))\n",
    "    ]\n",
    ")\n",
    "train_score, val_score= validation_curve(\n",
    "    clf_gb, X_train, y_train,\n",
    "    'classifier__n_estimators', param_range, cv=2,\n",
    "    scoring='recall'\n",
    ")"
   ]
  },
  {
   "cell_type": "code",
   "execution_count": 53,
   "metadata": {},
   "outputs": [
    {
     "data": {
      "image/png": "[encoded data removed]",
      "text/plain": [
       "<Figure size 432x288 with 1 Axes>"
      ]
     },
     "metadata": {
      "needs_background": "light"
     },
     "output_type": "display_data"
    }
   ],
   "source": [
    "plt.plot(param_range, np.median(train_score, 1), color='blue', label='training score')\n",
    "plt.plot(param_range, np.median(val_score, 1), color='red', label='validation score')\n",
    "plt.legend()\n",
    "plt.ylim(0, 0.1)\n",
    "plt.xlabel('n_estimators')\n",
    "plt.ylabel('recall');"
   ]
  },
  {
   "cell_type": "code",
   "execution_count": 57,
   "metadata": {},
   "outputs": [],
   "source": [
    "param_range = np.linspace(0.1, 2, 20)\n",
    "clf_gb = Pipeline(\n",
    "    steps=[\n",
    "        ('preprocessor', preprocessor),\n",
    "        ('classifier', GradientBoostingClassifier(n_estimators=800))\n",
    "    ]\n",
    ")\n",
    "train_score_lr, val_score_lr = validation_curve(\n",
    "    clf_gb, X_train, y_train,\n",
    "    'classifier__learning_rate', param_range, cv=2,\n",
    "    scoring='recall'\n",
    ")"
   ]
  },
  {
   "cell_type": "code",
   "execution_count": 58,
   "metadata": {},
   "outputs": [
    {
     "data": {
      "image/png": "[encoded data removed]",
      "text/plain": [
       "<Figure size 432x288 with 1 Axes>"
      ]
     },
     "metadata": {
      "needs_background": "light"
     },
     "output_type": "display_data"
    }
   ],
   "source": [
    "plt.plot(param_range, np.median(train_score_lr, 1), color='blue', label='training score')\n",
    "plt.plot(param_range, np.median(val_score_lr, 1), color='red', label='validation score')\n",
    "plt.legend()\n",
    "plt.ylim(0, 1)\n",
    "plt.xlabel('learning_rate')\n",
    "plt.ylabel('recall');"
   ]
  },
  {
   "cell_type": "markdown",
   "metadata": {},
   "source": [
    "## GB with all features"
   ]
  },
  {
   "cell_type": "code",
   "execution_count": 59,
   "metadata": {},
   "outputs": [
    {
     "name": "stdout",
     "output_type": "stream",
     "text": [
      "Best score 0.2130649811220612\n",
      "Best params {'classifier__learning_rate': 1.9, 'classifier__n_estimators': 500}\n"
     ]
    }
   ],
   "source": [
    "# We create the preprocessing pipelines for both numeric and categorical data.\n",
    "numeric_features = ['risk_score', 'age', 'years_experience', 'hours_worked_per_week']\n",
    "numeric_transformer = Pipeline(steps=[\n",
    "    ('imputer', SimpleImputer(strategy='median')),\n",
    "    ('scaler', StandardScaler())\n",
    "])\n",
    "\n",
    "categorical_features = ['gender', 'role', 'company', 'state']\n",
    "categorical_transformer = Pipeline(steps=[\n",
    "    ('imputer', SimpleImputer(strategy='constant', fill_value='missing')),\n",
    "    ('onehot', OneHotEncoder(handle_unknown='ignore'))])\n",
    "\n",
    "preprocessor = ColumnTransformer(\n",
    "    transformers=[\n",
    "        ('num', numeric_transformer, numeric_features),\n",
    "#         ('num', 'passthrough', numeric_features),\n",
    "        ('cat', categorical_transformer, categorical_features)\n",
    "    ],\n",
    "    sparse_threshold=0\n",
    ")\n",
    "\n",
    "clf_gb = Pipeline(steps=[('preprocessor', preprocessor),\n",
    "                      ('classifier', GradientBoostingClassifier())])\n",
    "\n",
    "param_grid = {\n",
    "    'classifier__learning_rate': [1.5, 1.7, 1.9],\n",
    "    'classifier__n_estimators': [500, 750, 1000],\n",
    "}\n",
    "\n",
    "grid_gb = GridSearchCV(clf_gb, param_grid, cv=3, iid=False, scoring='recall')\n",
    "grid_gb.fit(X_train, y_train)\n",
    "print('Best score', grid_gb.best_score_)\n",
    "print('Best params', grid_gb.best_params_)"
   ]
  },
  {
   "cell_type": "code",
   "execution_count": 60,
   "metadata": {
    "scrolled": true
   },
   "outputs": [
    {
     "name": "stdout",
     "output_type": "stream",
     "text": [
      "--GradientBoostingClassifier--\n",
      "|   821    |   4568   |\n",
      "|   1832   |  42779   |\n",
      "Accuracy: 0.872\n",
      "Precision: 0.15234737428094267\n",
      "Recall: 0.3094609875612514\n",
      "F1: 0.2041780651579209\n",
      "\n"
     ]
    }
   ],
   "source": [
    "y_pred = grid_gb.predict(X_test)\n",
    "\n",
    "tn, fp, fn, tp = confusion_matrix(y_test, y_pred).ravel()\n",
    "accuracy = accuracy_score(y_test, y_pred)\n",
    "precision = precision_score(y_test, y_pred)\n",
    "recall = recall_score(y_test, y_pred)\n",
    "f1 = f1_score(y_test, y_pred)\n",
    "\n",
    "print(f'--GradientBoostingClassifier--')\n",
    "print(f'|{tp:^10}|{fp:^10}|')\n",
    "print(f'|{fn:^10}|{tn:^10}|')\n",
    "print(f'Accuracy: {accuracy}')\n",
    "print(f'Precision: {precision}')\n",
    "print(f'Recall: {recall}')\n",
    "print(f'F1: {f1}')\n",
    "print()"
   ]
  },
  {
   "cell_type": "markdown",
   "metadata": {},
   "source": [
    "### Learning curve"
   ]
  },
  {
   "cell_type": "code",
   "execution_count": null,
   "metadata": {},
   "outputs": [],
   "source": [
    "# We create the preprocessing pipelines for both numeric and categorical data.\n",
    "numeric_features = ['risk_score', 'age', 'years_experience', 'hours_worked_per_week']\n",
    "numeric_transformer = Pipeline(steps=[\n",
    "    ('imputer', SimpleImputer(strategy='median')),\n",
    "    ('scaler', StandardScaler())\n",
    "])\n",
    "\n",
    "categorical_features = ['gender', 'role', 'company', 'state']\n",
    "categorical_transformer = Pipeline(steps=[\n",
    "    ('imputer', SimpleImputer(strategy='constant', fill_value='missing')),\n",
    "    ('onehot', OneHotEncoder(handle_unknown='ignore'))])\n",
    "\n",
    "preprocessor = ColumnTransformer(\n",
    "    transformers=[\n",
    "        ('num', numeric_transformer, numeric_features),\n",
    "#         ('num', 'passthrough', numeric_features),\n",
    "        ('cat', categorical_transformer, categorical_features)\n",
    "    ],\n",
    "    sparse_threshold=0\n",
    ")\n",
    "\n",
    "clf_gb = Pipeline(steps=[('preprocessor', preprocessor),\n",
    "                      ('classifier', GradientBoostingClassifier(learning_rate=1.9, n_estimators=800))])\n",
    "\n",
    "train_sizes_gb, train_scores_gb, valid_scores_gb = learning_curve(\n",
    "    clf_gb, X, y, cv=5, train_sizes=np.linspace(0.01, 1, 25)\n",
    ")"
   ]
  },
  {
   "cell_type": "code",
   "execution_count": null,
   "metadata": {},
   "outputs": [],
   "source": [
    "figsize = (800 / 72, 600 / 72)\n",
    "figplacement = [0, 0, 1, 1 ]\n",
    "    \n",
    "fig = plt.figure(figsize=figsize)\n",
    "ax = fig.add_axes(figplacement)\n",
    "ax.set_xlim(train_sizes_gb[0], train_sizes_gb[-1])\n",
    "ax.set_ylim(0.8, 1.1)\n",
    "ax.set_ylabel('score')\n",
    "ax.set_xlabel('training size')\n",
    "\n",
    "ax.plot(train_sizes_gb, np.mean(train_scores_gb, 1))\n",
    "ax.plot(train_sizes_gb, np.mean(valid_scores_gb, 1))\n",
    "ax.hlines(\n",
    "    np.mean([train_scores_gb[-1], valid_scores_gb[-1]]), train_sizes_gb[0], train_sizes_gb[-1], \n",
    "    color='gray', linestyle='dashed'\n",
    ")"
   ]
  },
  {
   "cell_type": "markdown",
   "metadata": {},
   "source": [
    "# Other"
   ]
  },
  {
   "cell_type": "code",
   "execution_count": 335,
   "metadata": {},
   "outputs": [],
   "source": [
    "clf_rf = Pipeline(steps=[('preprocessor', preprocessor),\n",
    "                      ('classifier', RandomForestClassifier())])\n",
    "\n",
    "clf_lr = Pipeline(steps=[('preprocessor', preprocessor),\n",
    "                      ('classifier', LogisticRegression(solver='saga'))])\n",
    "\n",
    "clf_gb = Pipeline(steps=[('preprocessor', preprocessor),\n",
    "                      ('classifier', GradientBoostingClassifier())])\n",
    "\n",
    "X = raw_data.drop('had_accident', axis=1)\n",
    "y = raw_data['had_accident']\n",
    "\n",
    "X_train, X_test, y_train, y_test = train_test_split(X, y, test_size=0.5)"
   ]
  },
  {
   "cell_type": "markdown",
   "metadata": {},
   "source": [
    "### GB without numeric scaling"
   ]
  },
  {
   "cell_type": "code",
   "execution_count": 336,
   "metadata": {},
   "outputs": [
    {
     "name": "stdout",
     "output_type": "stream",
     "text": [
      "Best score 0.0\n",
      "Best params {'classifier__learning_rate': 0.01, 'classifier__n_estimators': 50}\n"
     ]
    }
   ],
   "source": [
    "param_grid = {\n",
    "    'classifier__learning_rate': [0.01, 0.1, 0.5],\n",
    "    'classifier__n_estimators': [50, 100, 500],\n",
    "}\n",
    "\n",
    "grid_gb = GridSearchCV(clf_gb, param_grid, cv=3, iid=False, scoring='recall')\n",
    "grid_gb.fit(X_train, y_train)\n",
    "print('Best score', grid_gb.best_score_)\n",
    "print('Best params', grid_gb.best_params_)"
   ]
  },
  {
   "cell_type": "code",
   "execution_count": null,
   "metadata": {},
   "outputs": [
    {
     "name": "stdout",
     "output_type": "stream",
     "text": [
      "--GradientBoostingClassifier--\n",
      "|    0     |    0     |\n",
      "|   2643   |  47357   |\n",
      "Accuracy: 0.94714\n",
      "Precision: 0.0\n",
      "Recall: 0.0\n",
      "F1: 0.0\n",
      "\n"
     ]
    },
    {
     "name": "stderr",
     "output_type": "stream",
     "text": [
      "/Users/michaelsachs/.pyenv/versions/3.7.0/envs/glow/lib/python3.7/site-packages/sklearn/metrics/classification.py:1143: UndefinedMetricWarning: Precision is ill-defined and being set to 0.0 due to no predicted samples.\n",
      "  'precision', 'predicted', average, warn_for)\n",
      "/Users/michaelsachs/.pyenv/versions/3.7.0/envs/glow/lib/python3.7/site-packages/sklearn/metrics/classification.py:1143: UndefinedMetricWarning: F-score is ill-defined and being set to 0.0 due to no predicted samples.\n",
      "  'precision', 'predicted', average, warn_for)\n"
     ]
    }
   ],
   "source": [
    "y_pred = grid_gb.predict(X_test)\n",
    "\n",
    "tn, fp, fn, tp = confusion_matrix(y_test, y_pred).ravel()\n",
    "accuracy = accuracy_score(y_test, y_pred)\n",
    "precision = precision_score(y_test, y_pred)\n",
    "recall = recall_score(y_test, y_pred)\n",
    "f1 = f1_score(y_test, y_pred)\n",
    "\n",
    "print(f'--GradientBoostingClassifier--')\n",
    "print(f'|{tp:^10}|{fp:^10}|')\n",
    "print(f'|{fn:^10}|{tn:^10}|')\n",
    "print(f'Accuracy: {accuracy}')\n",
    "print(f'Precision: {precision}')\n",
    "print(f'Recall: {recall}')\n",
    "print(f'F1: {f1}')\n",
    "print()"
   ]
  },
  {
   "cell_type": "markdown",
   "metadata": {},
   "source": [
    "### GB with numeric scaling"
   ]
  },
  {
   "cell_type": "code",
   "execution_count": 324,
   "metadata": {},
   "outputs": [
    {
     "name": "stdout",
     "output_type": "stream",
     "text": [
      "Best score 0.039358282461883276\n",
      "Best params {'classifier__learning_rate': 0.5, 'classifier__n_estimators': 500}\n"
     ]
    }
   ],
   "source": [
    "param_grid = {\n",
    "    'classifier__learning_rate': [0.01, 0.1, 0.5],\n",
    "    'classifier__n_estimators': [50, 100, 500],\n",
    "}\n",
    "\n",
    "grid_gb = GridSearchCV(clf_gb, param_grid, cv=3, iid=False, scoring='recall')\n",
    "grid_gb.fit(X_train, y_train)\n",
    "print('Best score', grid_gb.best_score_)\n",
    "print('Best params', grid_gb.best_params_)"
   ]
  },
  {
   "cell_type": "code",
   "execution_count": 333,
   "metadata": {},
   "outputs": [
    {
     "name": "stdout",
     "output_type": "stream",
     "text": [
      "--GradientBoostingClassifier--\n",
      "|   512    |   429    |\n",
      "|   2172   |  46887   |\n",
      "Accuracy: 0.94798\n",
      "Precision: 0.5441020191285866\n",
      "Recall: 0.19076005961251863\n",
      "F1: 0.28248275862068967\n",
      "\n"
     ]
    }
   ],
   "source": [
    "y_pred = grid_gb.predict(X_test)\n",
    "\n",
    "tn, fp, fn, tp = confusion_matrix(y_test, y_pred).ravel()\n",
    "accuracy = accuracy_score(y_test, y_pred)\n",
    "precision = precision_score(y_test, y_pred)\n",
    "recall = recall_score(y_test, y_pred)\n",
    "f1 = f1_score(y_test, y_pred)\n",
    "\n",
    "print(f'--GradientBoostingClassifier--')\n",
    "print(f'|{tp:^10}|{fp:^10}|')\n",
    "print(f'|{fn:^10}|{tn:^10}|')\n",
    "print(f'Accuracy: {accuracy}')\n",
    "print(f'Precision: {precision}')\n",
    "print(f'Recall: {recall}')\n",
    "print(f'F1: {f1}')\n",
    "print()"
   ]
  },
  {
   "cell_type": "code",
   "execution_count": null,
   "metadata": {},
   "outputs": [
    {
     "name": "stderr",
     "output_type": "stream",
     "text": [
      "/Users/michaelsachs/.pyenv/versions/3.7.0/envs/glow/lib/python3.7/site-packages/sklearn/metrics/classification.py:1143: UndefinedMetricWarning: Precision is ill-defined and being set to 0.0 due to no predicted samples.\n",
      "  'precision', 'predicted', average, warn_for)\n",
      "/Users/michaelsachs/.pyenv/versions/3.7.0/envs/glow/lib/python3.7/site-packages/sklearn/metrics/classification.py:1143: UndefinedMetricWarning: Precision is ill-defined and being set to 0.0 due to no predicted samples.\n",
      "  'precision', 'predicted', average, warn_for)\n",
      "/Users/michaelsachs/.pyenv/versions/3.7.0/envs/glow/lib/python3.7/site-packages/sklearn/metrics/classification.py:1143: UndefinedMetricWarning: Precision is ill-defined and being set to 0.0 due to no predicted samples.\n",
      "  'precision', 'predicted', average, warn_for)\n",
      "/Users/michaelsachs/.pyenv/versions/3.7.0/envs/glow/lib/python3.7/site-packages/sklearn/metrics/classification.py:1143: UndefinedMetricWarning: Precision is ill-defined and being set to 0.0 due to no predicted samples.\n",
      "  'precision', 'predicted', average, warn_for)\n",
      "/Users/michaelsachs/.pyenv/versions/3.7.0/envs/glow/lib/python3.7/site-packages/sklearn/metrics/classification.py:1143: UndefinedMetricWarning: Precision is ill-defined and being set to 0.0 due to no predicted samples.\n",
      "  'precision', 'predicted', average, warn_for)\n",
      "/Users/michaelsachs/.pyenv/versions/3.7.0/envs/glow/lib/python3.7/site-packages/sklearn/metrics/classification.py:1143: UndefinedMetricWarning: Precision is ill-defined and being set to 0.0 due to no predicted samples.\n",
      "  'precision', 'predicted', average, warn_for)\n",
      "/Users/michaelsachs/.pyenv/versions/3.7.0/envs/glow/lib/python3.7/site-packages/sklearn/metrics/classification.py:1143: UndefinedMetricWarning: Precision is ill-defined and being set to 0.0 due to no predicted samples.\n",
      "  'precision', 'predicted', average, warn_for)\n",
      "/Users/michaelsachs/.pyenv/versions/3.7.0/envs/glow/lib/python3.7/site-packages/sklearn/metrics/classification.py:1143: UndefinedMetricWarning: Precision is ill-defined and being set to 0.0 due to no predicted samples.\n",
      "  'precision', 'predicted', average, warn_for)\n",
      "/Users/michaelsachs/.pyenv/versions/3.7.0/envs/glow/lib/python3.7/site-packages/sklearn/metrics/classification.py:1143: UndefinedMetricWarning: Precision is ill-defined and being set to 0.0 due to no predicted samples.\n",
      "  'precision', 'predicted', average, warn_for)\n",
      "/Users/michaelsachs/.pyenv/versions/3.7.0/envs/glow/lib/python3.7/site-packages/sklearn/metrics/classification.py:1143: UndefinedMetricWarning: Precision is ill-defined and being set to 0.0 due to no predicted samples.\n",
      "  'precision', 'predicted', average, warn_for)\n",
      "/Users/michaelsachs/.pyenv/versions/3.7.0/envs/glow/lib/python3.7/site-packages/sklearn/metrics/classification.py:1143: UndefinedMetricWarning: Precision is ill-defined and being set to 0.0 due to no predicted samples.\n",
      "  'precision', 'predicted', average, warn_for)\n",
      "/Users/michaelsachs/.pyenv/versions/3.7.0/envs/glow/lib/python3.7/site-packages/sklearn/metrics/classification.py:1143: UndefinedMetricWarning: Precision is ill-defined and being set to 0.0 due to no predicted samples.\n",
      "  'precision', 'predicted', average, warn_for)\n",
      "/Users/michaelsachs/.pyenv/versions/3.7.0/envs/glow/lib/python3.7/site-packages/sklearn/metrics/classification.py:1143: UndefinedMetricWarning: Precision is ill-defined and being set to 0.0 due to no predicted samples.\n",
      "  'precision', 'predicted', average, warn_for)\n",
      "/Users/michaelsachs/.pyenv/versions/3.7.0/envs/glow/lib/python3.7/site-packages/sklearn/metrics/classification.py:1143: UndefinedMetricWarning: Precision is ill-defined and being set to 0.0 due to no predicted samples.\n",
      "  'precision', 'predicted', average, warn_for)\n",
      "/Users/michaelsachs/.pyenv/versions/3.7.0/envs/glow/lib/python3.7/site-packages/sklearn/metrics/classification.py:1143: UndefinedMetricWarning: Precision is ill-defined and being set to 0.0 due to no predicted samples.\n",
      "  'precision', 'predicted', average, warn_for)\n",
      "/Users/michaelsachs/.pyenv/versions/3.7.0/envs/glow/lib/python3.7/site-packages/sklearn/metrics/classification.py:1143: UndefinedMetricWarning: Precision is ill-defined and being set to 0.0 due to no predicted samples.\n",
      "  'precision', 'predicted', average, warn_for)\n",
      "/Users/michaelsachs/.pyenv/versions/3.7.0/envs/glow/lib/python3.7/site-packages/sklearn/metrics/classification.py:1143: UndefinedMetricWarning: Precision is ill-defined and being set to 0.0 due to no predicted samples.\n",
      "  'precision', 'predicted', average, warn_for)\n",
      "/Users/michaelsachs/.pyenv/versions/3.7.0/envs/glow/lib/python3.7/site-packages/sklearn/metrics/classification.py:1143: UndefinedMetricWarning: Precision is ill-defined and being set to 0.0 due to no predicted samples.\n",
      "  'precision', 'predicted', average, warn_for)\n",
      "/Users/michaelsachs/.pyenv/versions/3.7.0/envs/glow/lib/python3.7/site-packages/sklearn/metrics/classification.py:1143: UndefinedMetricWarning: Precision is ill-defined and being set to 0.0 due to no predicted samples.\n",
      "  'precision', 'predicted', average, warn_for)\n",
      "/Users/michaelsachs/.pyenv/versions/3.7.0/envs/glow/lib/python3.7/site-packages/sklearn/metrics/classification.py:1143: UndefinedMetricWarning: Precision is ill-defined and being set to 0.0 due to no predicted samples.\n",
      "  'precision', 'predicted', average, warn_for)\n",
      "/Users/michaelsachs/.pyenv/versions/3.7.0/envs/glow/lib/python3.7/site-packages/sklearn/metrics/classification.py:1143: UndefinedMetricWarning: Precision is ill-defined and being set to 0.0 due to no predicted samples.\n",
      "  'precision', 'predicted', average, warn_for)\n",
      "/Users/michaelsachs/.pyenv/versions/3.7.0/envs/glow/lib/python3.7/site-packages/sklearn/metrics/classification.py:1143: UndefinedMetricWarning: Precision is ill-defined and being set to 0.0 due to no predicted samples.\n",
      "  'precision', 'predicted', average, warn_for)\n",
      "/Users/michaelsachs/.pyenv/versions/3.7.0/envs/glow/lib/python3.7/site-packages/sklearn/metrics/classification.py:1143: UndefinedMetricWarning: Precision is ill-defined and being set to 0.0 due to no predicted samples.\n",
      "  'precision', 'predicted', average, warn_for)\n",
      "/Users/michaelsachs/.pyenv/versions/3.7.0/envs/glow/lib/python3.7/site-packages/sklearn/metrics/classification.py:1143: UndefinedMetricWarning: Precision is ill-defined and being set to 0.0 due to no predicted samples.\n",
      "  'precision', 'predicted', average, warn_for)\n",
      "/Users/michaelsachs/.pyenv/versions/3.7.0/envs/glow/lib/python3.7/site-packages/sklearn/metrics/classification.py:1143: UndefinedMetricWarning: Precision is ill-defined and being set to 0.0 due to no predicted samples.\n",
      "  'precision', 'predicted', average, warn_for)\n",
      "/Users/michaelsachs/.pyenv/versions/3.7.0/envs/glow/lib/python3.7/site-packages/sklearn/metrics/classification.py:1143: UndefinedMetricWarning: Precision is ill-defined and being set to 0.0 due to no predicted samples.\n",
      "  'precision', 'predicted', average, warn_for)\n",
      "/Users/michaelsachs/.pyenv/versions/3.7.0/envs/glow/lib/python3.7/site-packages/sklearn/metrics/classification.py:1143: UndefinedMetricWarning: Precision is ill-defined and being set to 0.0 due to no predicted samples.\n",
      "  'precision', 'predicted', average, warn_for)\n",
      "/Users/michaelsachs/.pyenv/versions/3.7.0/envs/glow/lib/python3.7/site-packages/sklearn/metrics/classification.py:1143: UndefinedMetricWarning: Precision is ill-defined and being set to 0.0 due to no predicted samples.\n",
      "  'precision', 'predicted', average, warn_for)\n",
      "/Users/michaelsachs/.pyenv/versions/3.7.0/envs/glow/lib/python3.7/site-packages/sklearn/metrics/classification.py:1143: UndefinedMetricWarning: Precision is ill-defined and being set to 0.0 due to no predicted samples.\n",
      "  'precision', 'predicted', average, warn_for)\n",
      "/Users/michaelsachs/.pyenv/versions/3.7.0/envs/glow/lib/python3.7/site-packages/sklearn/metrics/classification.py:1143: UndefinedMetricWarning: Precision is ill-defined and being set to 0.0 due to no predicted samples.\n",
      "  'precision', 'predicted', average, warn_for)\n",
      "/Users/michaelsachs/.pyenv/versions/3.7.0/envs/glow/lib/python3.7/site-packages/sklearn/metrics/classification.py:1143: UndefinedMetricWarning: Precision is ill-defined and being set to 0.0 due to no predicted samples.\n",
      "  'precision', 'predicted', average, warn_for)\n",
      "/Users/michaelsachs/.pyenv/versions/3.7.0/envs/glow/lib/python3.7/site-packages/sklearn/metrics/classification.py:1143: UndefinedMetricWarning: Precision is ill-defined and being set to 0.0 due to no predicted samples.\n",
      "  'precision', 'predicted', average, warn_for)\n"
     ]
    },
    {
     "name": "stderr",
     "output_type": "stream",
     "text": [
      "/Users/michaelsachs/.pyenv/versions/3.7.0/envs/glow/lib/python3.7/site-packages/sklearn/metrics/classification.py:1143: UndefinedMetricWarning: Precision is ill-defined and being set to 0.0 due to no predicted samples.\n",
      "  'precision', 'predicted', average, warn_for)\n",
      "/Users/michaelsachs/.pyenv/versions/3.7.0/envs/glow/lib/python3.7/site-packages/sklearn/metrics/classification.py:1143: UndefinedMetricWarning: Precision is ill-defined and being set to 0.0 due to no predicted samples.\n",
      "  'precision', 'predicted', average, warn_for)\n",
      "/Users/michaelsachs/.pyenv/versions/3.7.0/envs/glow/lib/python3.7/site-packages/sklearn/metrics/classification.py:1143: UndefinedMetricWarning: Precision is ill-defined and being set to 0.0 due to no predicted samples.\n",
      "  'precision', 'predicted', average, warn_for)\n",
      "/Users/michaelsachs/.pyenv/versions/3.7.0/envs/glow/lib/python3.7/site-packages/sklearn/metrics/classification.py:1143: UndefinedMetricWarning: Precision is ill-defined and being set to 0.0 due to no predicted samples.\n",
      "  'precision', 'predicted', average, warn_for)\n",
      "/Users/michaelsachs/.pyenv/versions/3.7.0/envs/glow/lib/python3.7/site-packages/sklearn/metrics/classification.py:1143: UndefinedMetricWarning: Precision is ill-defined and being set to 0.0 due to no predicted samples.\n",
      "  'precision', 'predicted', average, warn_for)\n",
      "/Users/michaelsachs/.pyenv/versions/3.7.0/envs/glow/lib/python3.7/site-packages/sklearn/metrics/classification.py:1143: UndefinedMetricWarning: Precision is ill-defined and being set to 0.0 due to no predicted samples.\n",
      "  'precision', 'predicted', average, warn_for)\n",
      "/Users/michaelsachs/.pyenv/versions/3.7.0/envs/glow/lib/python3.7/site-packages/sklearn/metrics/classification.py:1143: UndefinedMetricWarning: Precision is ill-defined and being set to 0.0 due to no predicted samples.\n",
      "  'precision', 'predicted', average, warn_for)\n",
      "/Users/michaelsachs/.pyenv/versions/3.7.0/envs/glow/lib/python3.7/site-packages/sklearn/metrics/classification.py:1143: UndefinedMetricWarning: Precision is ill-defined and being set to 0.0 due to no predicted samples.\n",
      "  'precision', 'predicted', average, warn_for)\n",
      "/Users/michaelsachs/.pyenv/versions/3.7.0/envs/glow/lib/python3.7/site-packages/sklearn/metrics/classification.py:1143: UndefinedMetricWarning: Precision is ill-defined and being set to 0.0 due to no predicted samples.\n",
      "  'precision', 'predicted', average, warn_for)\n",
      "/Users/michaelsachs/.pyenv/versions/3.7.0/envs/glow/lib/python3.7/site-packages/sklearn/metrics/classification.py:1143: UndefinedMetricWarning: Precision is ill-defined and being set to 0.0 due to no predicted samples.\n",
      "  'precision', 'predicted', average, warn_for)\n",
      "/Users/michaelsachs/.pyenv/versions/3.7.0/envs/glow/lib/python3.7/site-packages/sklearn/metrics/classification.py:1143: UndefinedMetricWarning: Precision is ill-defined and being set to 0.0 due to no predicted samples.\n",
      "  'precision', 'predicted', average, warn_for)\n",
      "/Users/michaelsachs/.pyenv/versions/3.7.0/envs/glow/lib/python3.7/site-packages/sklearn/metrics/classification.py:1143: UndefinedMetricWarning: Precision is ill-defined and being set to 0.0 due to no predicted samples.\n",
      "  'precision', 'predicted', average, warn_for)\n",
      "/Users/michaelsachs/.pyenv/versions/3.7.0/envs/glow/lib/python3.7/site-packages/sklearn/metrics/classification.py:1143: UndefinedMetricWarning: Precision is ill-defined and being set to 0.0 due to no predicted samples.\n",
      "  'precision', 'predicted', average, warn_for)\n",
      "/Users/michaelsachs/.pyenv/versions/3.7.0/envs/glow/lib/python3.7/site-packages/sklearn/metrics/classification.py:1143: UndefinedMetricWarning: Precision is ill-defined and being set to 0.0 due to no predicted samples.\n",
      "  'precision', 'predicted', average, warn_for)\n",
      "/Users/michaelsachs/.pyenv/versions/3.7.0/envs/glow/lib/python3.7/site-packages/sklearn/metrics/classification.py:1143: UndefinedMetricWarning: Precision is ill-defined and being set to 0.0 due to no predicted samples.\n",
      "  'precision', 'predicted', average, warn_for)\n",
      "/Users/michaelsachs/.pyenv/versions/3.7.0/envs/glow/lib/python3.7/site-packages/sklearn/metrics/classification.py:1143: UndefinedMetricWarning: Precision is ill-defined and being set to 0.0 due to no predicted samples.\n",
      "  'precision', 'predicted', average, warn_for)\n",
      "/Users/michaelsachs/.pyenv/versions/3.7.0/envs/glow/lib/python3.7/site-packages/sklearn/metrics/classification.py:1143: UndefinedMetricWarning: Precision is ill-defined and being set to 0.0 due to no predicted samples.\n",
      "  'precision', 'predicted', average, warn_for)\n",
      "/Users/michaelsachs/.pyenv/versions/3.7.0/envs/glow/lib/python3.7/site-packages/sklearn/metrics/classification.py:1143: UndefinedMetricWarning: Precision is ill-defined and being set to 0.0 due to no predicted samples.\n",
      "  'precision', 'predicted', average, warn_for)\n",
      "/Users/michaelsachs/.pyenv/versions/3.7.0/envs/glow/lib/python3.7/site-packages/sklearn/metrics/classification.py:1143: UndefinedMetricWarning: Precision is ill-defined and being set to 0.0 due to no predicted samples.\n",
      "  'precision', 'predicted', average, warn_for)\n",
      "/Users/michaelsachs/.pyenv/versions/3.7.0/envs/glow/lib/python3.7/site-packages/sklearn/metrics/classification.py:1143: UndefinedMetricWarning: Precision is ill-defined and being set to 0.0 due to no predicted samples.\n",
      "  'precision', 'predicted', average, warn_for)\n",
      "/Users/michaelsachs/.pyenv/versions/3.7.0/envs/glow/lib/python3.7/site-packages/sklearn/metrics/classification.py:1143: UndefinedMetricWarning: Precision is ill-defined and being set to 0.0 due to no predicted samples.\n",
      "  'precision', 'predicted', average, warn_for)\n",
      "/Users/michaelsachs/.pyenv/versions/3.7.0/envs/glow/lib/python3.7/site-packages/sklearn/metrics/classification.py:1143: UndefinedMetricWarning: Precision is ill-defined and being set to 0.0 due to no predicted samples.\n",
      "  'precision', 'predicted', average, warn_for)\n",
      "/Users/michaelsachs/.pyenv/versions/3.7.0/envs/glow/lib/python3.7/site-packages/sklearn/metrics/classification.py:1143: UndefinedMetricWarning: Precision is ill-defined and being set to 0.0 due to no predicted samples.\n",
      "  'precision', 'predicted', average, warn_for)\n",
      "/Users/michaelsachs/.pyenv/versions/3.7.0/envs/glow/lib/python3.7/site-packages/sklearn/metrics/classification.py:1143: UndefinedMetricWarning: Precision is ill-defined and being set to 0.0 due to no predicted samples.\n",
      "  'precision', 'predicted', average, warn_for)\n",
      "/Users/michaelsachs/.pyenv/versions/3.7.0/envs/glow/lib/python3.7/site-packages/sklearn/metrics/classification.py:1143: UndefinedMetricWarning: Precision is ill-defined and being set to 0.0 due to no predicted samples.\n",
      "  'precision', 'predicted', average, warn_for)\n",
      "/Users/michaelsachs/.pyenv/versions/3.7.0/envs/glow/lib/python3.7/site-packages/sklearn/metrics/classification.py:1143: UndefinedMetricWarning: Precision is ill-defined and being set to 0.0 due to no predicted samples.\n",
      "  'precision', 'predicted', average, warn_for)\n",
      "/Users/michaelsachs/.pyenv/versions/3.7.0/envs/glow/lib/python3.7/site-packages/sklearn/metrics/classification.py:1143: UndefinedMetricWarning: Precision is ill-defined and being set to 0.0 due to no predicted samples.\n",
      "  'precision', 'predicted', average, warn_for)\n",
      "/Users/michaelsachs/.pyenv/versions/3.7.0/envs/glow/lib/python3.7/site-packages/sklearn/metrics/classification.py:1143: UndefinedMetricWarning: Precision is ill-defined and being set to 0.0 due to no predicted samples.\n",
      "  'precision', 'predicted', average, warn_for)\n",
      "/Users/michaelsachs/.pyenv/versions/3.7.0/envs/glow/lib/python3.7/site-packages/sklearn/metrics/classification.py:1143: UndefinedMetricWarning: Precision is ill-defined and being set to 0.0 due to no predicted samples.\n",
      "  'precision', 'predicted', average, warn_for)\n",
      "/Users/michaelsachs/.pyenv/versions/3.7.0/envs/glow/lib/python3.7/site-packages/sklearn/metrics/classification.py:1143: UndefinedMetricWarning: Precision is ill-defined and being set to 0.0 due to no predicted samples.\n",
      "  'precision', 'predicted', average, warn_for)\n",
      "/Users/michaelsachs/.pyenv/versions/3.7.0/envs/glow/lib/python3.7/site-packages/sklearn/metrics/classification.py:1143: UndefinedMetricWarning: Precision is ill-defined and being set to 0.0 due to no predicted samples.\n",
      "  'precision', 'predicted', average, warn_for)\n",
      "/Users/michaelsachs/.pyenv/versions/3.7.0/envs/glow/lib/python3.7/site-packages/sklearn/metrics/classification.py:1143: UndefinedMetricWarning: Precision is ill-defined and being set to 0.0 due to no predicted samples.\n",
      "  'precision', 'predicted', average, warn_for)\n"
     ]
    },
    {
     "name": "stderr",
     "output_type": "stream",
     "text": [
      "/Users/michaelsachs/.pyenv/versions/3.7.0/envs/glow/lib/python3.7/site-packages/sklearn/metrics/classification.py:1143: UndefinedMetricWarning: Precision is ill-defined and being set to 0.0 due to no predicted samples.\n",
      "  'precision', 'predicted', average, warn_for)\n",
      "/Users/michaelsachs/.pyenv/versions/3.7.0/envs/glow/lib/python3.7/site-packages/sklearn/metrics/classification.py:1143: UndefinedMetricWarning: Precision is ill-defined and being set to 0.0 due to no predicted samples.\n",
      "  'precision', 'predicted', average, warn_for)\n",
      "/Users/michaelsachs/.pyenv/versions/3.7.0/envs/glow/lib/python3.7/site-packages/sklearn/metrics/classification.py:1143: UndefinedMetricWarning: Precision is ill-defined and being set to 0.0 due to no predicted samples.\n",
      "  'precision', 'predicted', average, warn_for)\n",
      "/Users/michaelsachs/.pyenv/versions/3.7.0/envs/glow/lib/python3.7/site-packages/sklearn/metrics/classification.py:1143: UndefinedMetricWarning: Precision is ill-defined and being set to 0.0 due to no predicted samples.\n",
      "  'precision', 'predicted', average, warn_for)\n",
      "/Users/michaelsachs/.pyenv/versions/3.7.0/envs/glow/lib/python3.7/site-packages/sklearn/metrics/classification.py:1143: UndefinedMetricWarning: Precision is ill-defined and being set to 0.0 due to no predicted samples.\n",
      "  'precision', 'predicted', average, warn_for)\n",
      "/Users/michaelsachs/.pyenv/versions/3.7.0/envs/glow/lib/python3.7/site-packages/sklearn/metrics/classification.py:1143: UndefinedMetricWarning: Precision is ill-defined and being set to 0.0 due to no predicted samples.\n",
      "  'precision', 'predicted', average, warn_for)\n",
      "/Users/michaelsachs/.pyenv/versions/3.7.0/envs/glow/lib/python3.7/site-packages/sklearn/metrics/classification.py:1143: UndefinedMetricWarning: Precision is ill-defined and being set to 0.0 due to no predicted samples.\n",
      "  'precision', 'predicted', average, warn_for)\n",
      "/Users/michaelsachs/.pyenv/versions/3.7.0/envs/glow/lib/python3.7/site-packages/sklearn/metrics/classification.py:1143: UndefinedMetricWarning: Precision is ill-defined and being set to 0.0 due to no predicted samples.\n",
      "  'precision', 'predicted', average, warn_for)\n",
      "/Users/michaelsachs/.pyenv/versions/3.7.0/envs/glow/lib/python3.7/site-packages/sklearn/metrics/classification.py:1143: UndefinedMetricWarning: Precision is ill-defined and being set to 0.0 due to no predicted samples.\n",
      "  'precision', 'predicted', average, warn_for)\n",
      "/Users/michaelsachs/.pyenv/versions/3.7.0/envs/glow/lib/python3.7/site-packages/sklearn/metrics/classification.py:1143: UndefinedMetricWarning: Precision is ill-defined and being set to 0.0 due to no predicted samples.\n",
      "  'precision', 'predicted', average, warn_for)\n",
      "/Users/michaelsachs/.pyenv/versions/3.7.0/envs/glow/lib/python3.7/site-packages/sklearn/metrics/classification.py:1143: UndefinedMetricWarning: Precision is ill-defined and being set to 0.0 due to no predicted samples.\n",
      "  'precision', 'predicted', average, warn_for)\n",
      "/Users/michaelsachs/.pyenv/versions/3.7.0/envs/glow/lib/python3.7/site-packages/sklearn/metrics/classification.py:1143: UndefinedMetricWarning: Precision is ill-defined and being set to 0.0 due to no predicted samples.\n",
      "  'precision', 'predicted', average, warn_for)\n",
      "/Users/michaelsachs/.pyenv/versions/3.7.0/envs/glow/lib/python3.7/site-packages/sklearn/metrics/classification.py:1143: UndefinedMetricWarning: Precision is ill-defined and being set to 0.0 due to no predicted samples.\n",
      "  'precision', 'predicted', average, warn_for)\n",
      "/Users/michaelsachs/.pyenv/versions/3.7.0/envs/glow/lib/python3.7/site-packages/sklearn/metrics/classification.py:1143: UndefinedMetricWarning: Precision is ill-defined and being set to 0.0 due to no predicted samples.\n",
      "  'precision', 'predicted', average, warn_for)\n",
      "/Users/michaelsachs/.pyenv/versions/3.7.0/envs/glow/lib/python3.7/site-packages/sklearn/metrics/classification.py:1143: UndefinedMetricWarning: Precision is ill-defined and being set to 0.0 due to no predicted samples.\n",
      "  'precision', 'predicted', average, warn_for)\n",
      "/Users/michaelsachs/.pyenv/versions/3.7.0/envs/glow/lib/python3.7/site-packages/sklearn/metrics/classification.py:1143: UndefinedMetricWarning: Precision is ill-defined and being set to 0.0 due to no predicted samples.\n",
      "  'precision', 'predicted', average, warn_for)\n",
      "/Users/michaelsachs/.pyenv/versions/3.7.0/envs/glow/lib/python3.7/site-packages/sklearn/metrics/classification.py:1143: UndefinedMetricWarning: Precision is ill-defined and being set to 0.0 due to no predicted samples.\n",
      "  'precision', 'predicted', average, warn_for)\n",
      "/Users/michaelsachs/.pyenv/versions/3.7.0/envs/glow/lib/python3.7/site-packages/sklearn/metrics/classification.py:1143: UndefinedMetricWarning: Precision is ill-defined and being set to 0.0 due to no predicted samples.\n",
      "  'precision', 'predicted', average, warn_for)\n",
      "/Users/michaelsachs/.pyenv/versions/3.7.0/envs/glow/lib/python3.7/site-packages/sklearn/metrics/classification.py:1143: UndefinedMetricWarning: Precision is ill-defined and being set to 0.0 due to no predicted samples.\n",
      "  'precision', 'predicted', average, warn_for)\n",
      "/Users/michaelsachs/.pyenv/versions/3.7.0/envs/glow/lib/python3.7/site-packages/sklearn/metrics/classification.py:1143: UndefinedMetricWarning: Precision is ill-defined and being set to 0.0 due to no predicted samples.\n",
      "  'precision', 'predicted', average, warn_for)\n",
      "/Users/michaelsachs/.pyenv/versions/3.7.0/envs/glow/lib/python3.7/site-packages/sklearn/metrics/classification.py:1143: UndefinedMetricWarning: Precision is ill-defined and being set to 0.0 due to no predicted samples.\n",
      "  'precision', 'predicted', average, warn_for)\n",
      "/Users/michaelsachs/.pyenv/versions/3.7.0/envs/glow/lib/python3.7/site-packages/sklearn/metrics/classification.py:1143: UndefinedMetricWarning: Precision is ill-defined and being set to 0.0 due to no predicted samples.\n",
      "  'precision', 'predicted', average, warn_for)\n",
      "/Users/michaelsachs/.pyenv/versions/3.7.0/envs/glow/lib/python3.7/site-packages/sklearn/metrics/classification.py:1143: UndefinedMetricWarning: Precision is ill-defined and being set to 0.0 due to no predicted samples.\n",
      "  'precision', 'predicted', average, warn_for)\n",
      "/Users/michaelsachs/.pyenv/versions/3.7.0/envs/glow/lib/python3.7/site-packages/sklearn/metrics/classification.py:1143: UndefinedMetricWarning: Precision is ill-defined and being set to 0.0 due to no predicted samples.\n",
      "  'precision', 'predicted', average, warn_for)\n",
      "/Users/michaelsachs/.pyenv/versions/3.7.0/envs/glow/lib/python3.7/site-packages/sklearn/metrics/classification.py:1143: UndefinedMetricWarning: Precision is ill-defined and being set to 0.0 due to no predicted samples.\n",
      "  'precision', 'predicted', average, warn_for)\n",
      "/Users/michaelsachs/.pyenv/versions/3.7.0/envs/glow/lib/python3.7/site-packages/sklearn/metrics/classification.py:1143: UndefinedMetricWarning: Precision is ill-defined and being set to 0.0 due to no predicted samples.\n",
      "  'precision', 'predicted', average, warn_for)\n",
      "/Users/michaelsachs/.pyenv/versions/3.7.0/envs/glow/lib/python3.7/site-packages/sklearn/metrics/classification.py:1143: UndefinedMetricWarning: Precision is ill-defined and being set to 0.0 due to no predicted samples.\n",
      "  'precision', 'predicted', average, warn_for)\n",
      "/Users/michaelsachs/.pyenv/versions/3.7.0/envs/glow/lib/python3.7/site-packages/sklearn/metrics/classification.py:1143: UndefinedMetricWarning: Precision is ill-defined and being set to 0.0 due to no predicted samples.\n",
      "  'precision', 'predicted', average, warn_for)\n",
      "/Users/michaelsachs/.pyenv/versions/3.7.0/envs/glow/lib/python3.7/site-packages/sklearn/metrics/classification.py:1143: UndefinedMetricWarning: Precision is ill-defined and being set to 0.0 due to no predicted samples.\n",
      "  'precision', 'predicted', average, warn_for)\n",
      "/Users/michaelsachs/.pyenv/versions/3.7.0/envs/glow/lib/python3.7/site-packages/sklearn/metrics/classification.py:1143: UndefinedMetricWarning: Precision is ill-defined and being set to 0.0 due to no predicted samples.\n",
      "  'precision', 'predicted', average, warn_for)\n",
      "/Users/michaelsachs/.pyenv/versions/3.7.0/envs/glow/lib/python3.7/site-packages/sklearn/metrics/classification.py:1143: UndefinedMetricWarning: Precision is ill-defined and being set to 0.0 due to no predicted samples.\n",
      "  'precision', 'predicted', average, warn_for)\n",
      "/Users/michaelsachs/.pyenv/versions/3.7.0/envs/glow/lib/python3.7/site-packages/sklearn/metrics/classification.py:1143: UndefinedMetricWarning: Precision is ill-defined and being set to 0.0 due to no predicted samples.\n",
      "  'precision', 'predicted', average, warn_for)\n"
     ]
    },
    {
     "name": "stderr",
     "output_type": "stream",
     "text": [
      "/Users/michaelsachs/.pyenv/versions/3.7.0/envs/glow/lib/python3.7/site-packages/sklearn/metrics/classification.py:1143: UndefinedMetricWarning: Precision is ill-defined and being set to 0.0 due to no predicted samples.\n",
      "  'precision', 'predicted', average, warn_for)\n",
      "/Users/michaelsachs/.pyenv/versions/3.7.0/envs/glow/lib/python3.7/site-packages/sklearn/metrics/classification.py:1143: UndefinedMetricWarning: Precision is ill-defined and being set to 0.0 due to no predicted samples.\n",
      "  'precision', 'predicted', average, warn_for)\n",
      "/Users/michaelsachs/.pyenv/versions/3.7.0/envs/glow/lib/python3.7/site-packages/sklearn/metrics/classification.py:1143: UndefinedMetricWarning: Precision is ill-defined and being set to 0.0 due to no predicted samples.\n",
      "  'precision', 'predicted', average, warn_for)\n",
      "/Users/michaelsachs/.pyenv/versions/3.7.0/envs/glow/lib/python3.7/site-packages/sklearn/metrics/classification.py:1143: UndefinedMetricWarning: Precision is ill-defined and being set to 0.0 due to no predicted samples.\n",
      "  'precision', 'predicted', average, warn_for)\n",
      "/Users/michaelsachs/.pyenv/versions/3.7.0/envs/glow/lib/python3.7/site-packages/sklearn/metrics/classification.py:1143: UndefinedMetricWarning: Precision is ill-defined and being set to 0.0 due to no predicted samples.\n",
      "  'precision', 'predicted', average, warn_for)\n",
      "/Users/michaelsachs/.pyenv/versions/3.7.0/envs/glow/lib/python3.7/site-packages/sklearn/metrics/classification.py:1143: UndefinedMetricWarning: Precision is ill-defined and being set to 0.0 due to no predicted samples.\n",
      "  'precision', 'predicted', average, warn_for)\n",
      "/Users/michaelsachs/.pyenv/versions/3.7.0/envs/glow/lib/python3.7/site-packages/sklearn/metrics/classification.py:1143: UndefinedMetricWarning: Precision is ill-defined and being set to 0.0 due to no predicted samples.\n",
      "  'precision', 'predicted', average, warn_for)\n",
      "/Users/michaelsachs/.pyenv/versions/3.7.0/envs/glow/lib/python3.7/site-packages/sklearn/metrics/classification.py:1143: UndefinedMetricWarning: Precision is ill-defined and being set to 0.0 due to no predicted samples.\n",
      "  'precision', 'predicted', average, warn_for)\n",
      "/Users/michaelsachs/.pyenv/versions/3.7.0/envs/glow/lib/python3.7/site-packages/sklearn/metrics/classification.py:1143: UndefinedMetricWarning: Precision is ill-defined and being set to 0.0 due to no predicted samples.\n",
      "  'precision', 'predicted', average, warn_for)\n",
      "/Users/michaelsachs/.pyenv/versions/3.7.0/envs/glow/lib/python3.7/site-packages/sklearn/metrics/classification.py:1143: UndefinedMetricWarning: Precision is ill-defined and being set to 0.0 due to no predicted samples.\n",
      "  'precision', 'predicted', average, warn_for)\n",
      "/Users/michaelsachs/.pyenv/versions/3.7.0/envs/glow/lib/python3.7/site-packages/sklearn/metrics/classification.py:1143: UndefinedMetricWarning: Precision is ill-defined and being set to 0.0 due to no predicted samples.\n",
      "  'precision', 'predicted', average, warn_for)\n",
      "/Users/michaelsachs/.pyenv/versions/3.7.0/envs/glow/lib/python3.7/site-packages/sklearn/metrics/classification.py:1143: UndefinedMetricWarning: Precision is ill-defined and being set to 0.0 due to no predicted samples.\n",
      "  'precision', 'predicted', average, warn_for)\n",
      "/Users/michaelsachs/.pyenv/versions/3.7.0/envs/glow/lib/python3.7/site-packages/sklearn/metrics/classification.py:1143: UndefinedMetricWarning: Precision is ill-defined and being set to 0.0 due to no predicted samples.\n",
      "  'precision', 'predicted', average, warn_for)\n",
      "/Users/michaelsachs/.pyenv/versions/3.7.0/envs/glow/lib/python3.7/site-packages/sklearn/metrics/classification.py:1143: UndefinedMetricWarning: Precision is ill-defined and being set to 0.0 due to no predicted samples.\n",
      "  'precision', 'predicted', average, warn_for)\n",
      "/Users/michaelsachs/.pyenv/versions/3.7.0/envs/glow/lib/python3.7/site-packages/sklearn/metrics/classification.py:1143: UndefinedMetricWarning: Precision is ill-defined and being set to 0.0 due to no predicted samples.\n",
      "  'precision', 'predicted', average, warn_for)\n",
      "/Users/michaelsachs/.pyenv/versions/3.7.0/envs/glow/lib/python3.7/site-packages/sklearn/metrics/classification.py:1143: UndefinedMetricWarning: Precision is ill-defined and being set to 0.0 due to no predicted samples.\n",
      "  'precision', 'predicted', average, warn_for)\n",
      "/Users/michaelsachs/.pyenv/versions/3.7.0/envs/glow/lib/python3.7/site-packages/sklearn/metrics/classification.py:1143: UndefinedMetricWarning: Precision is ill-defined and being set to 0.0 due to no predicted samples.\n",
      "  'precision', 'predicted', average, warn_for)\n",
      "/Users/michaelsachs/.pyenv/versions/3.7.0/envs/glow/lib/python3.7/site-packages/sklearn/metrics/classification.py:1143: UndefinedMetricWarning: Precision is ill-defined and being set to 0.0 due to no predicted samples.\n",
      "  'precision', 'predicted', average, warn_for)\n",
      "/Users/michaelsachs/.pyenv/versions/3.7.0/envs/glow/lib/python3.7/site-packages/sklearn/metrics/classification.py:1143: UndefinedMetricWarning: Precision is ill-defined and being set to 0.0 due to no predicted samples.\n",
      "  'precision', 'predicted', average, warn_for)\n",
      "/Users/michaelsachs/.pyenv/versions/3.7.0/envs/glow/lib/python3.7/site-packages/sklearn/metrics/classification.py:1143: UndefinedMetricWarning: Precision is ill-defined and being set to 0.0 due to no predicted samples.\n",
      "  'precision', 'predicted', average, warn_for)\n",
      "/Users/michaelsachs/.pyenv/versions/3.7.0/envs/glow/lib/python3.7/site-packages/sklearn/metrics/classification.py:1143: UndefinedMetricWarning: Precision is ill-defined and being set to 0.0 due to no predicted samples.\n",
      "  'precision', 'predicted', average, warn_for)\n",
      "/Users/michaelsachs/.pyenv/versions/3.7.0/envs/glow/lib/python3.7/site-packages/sklearn/metrics/classification.py:1143: UndefinedMetricWarning: Precision is ill-defined and being set to 0.0 due to no predicted samples.\n",
      "  'precision', 'predicted', average, warn_for)\n",
      "/Users/michaelsachs/.pyenv/versions/3.7.0/envs/glow/lib/python3.7/site-packages/sklearn/metrics/classification.py:1143: UndefinedMetricWarning: Precision is ill-defined and being set to 0.0 due to no predicted samples.\n",
      "  'precision', 'predicted', average, warn_for)\n",
      "/Users/michaelsachs/.pyenv/versions/3.7.0/envs/glow/lib/python3.7/site-packages/sklearn/metrics/classification.py:1143: UndefinedMetricWarning: Precision is ill-defined and being set to 0.0 due to no predicted samples.\n",
      "  'precision', 'predicted', average, warn_for)\n",
      "/Users/michaelsachs/.pyenv/versions/3.7.0/envs/glow/lib/python3.7/site-packages/sklearn/metrics/classification.py:1143: UndefinedMetricWarning: Precision is ill-defined and being set to 0.0 due to no predicted samples.\n",
      "  'precision', 'predicted', average, warn_for)\n",
      "/Users/michaelsachs/.pyenv/versions/3.7.0/envs/glow/lib/python3.7/site-packages/sklearn/metrics/classification.py:1143: UndefinedMetricWarning: Precision is ill-defined and being set to 0.0 due to no predicted samples.\n",
      "  'precision', 'predicted', average, warn_for)\n",
      "/Users/michaelsachs/.pyenv/versions/3.7.0/envs/glow/lib/python3.7/site-packages/sklearn/metrics/classification.py:1143: UndefinedMetricWarning: Precision is ill-defined and being set to 0.0 due to no predicted samples.\n",
      "  'precision', 'predicted', average, warn_for)\n",
      "/Users/michaelsachs/.pyenv/versions/3.7.0/envs/glow/lib/python3.7/site-packages/sklearn/metrics/classification.py:1143: UndefinedMetricWarning: Precision is ill-defined and being set to 0.0 due to no predicted samples.\n",
      "  'precision', 'predicted', average, warn_for)\n",
      "/Users/michaelsachs/.pyenv/versions/3.7.0/envs/glow/lib/python3.7/site-packages/sklearn/metrics/classification.py:1143: UndefinedMetricWarning: Precision is ill-defined and being set to 0.0 due to no predicted samples.\n",
      "  'precision', 'predicted', average, warn_for)\n",
      "/Users/michaelsachs/.pyenv/versions/3.7.0/envs/glow/lib/python3.7/site-packages/sklearn/metrics/classification.py:1143: UndefinedMetricWarning: Precision is ill-defined and being set to 0.0 due to no predicted samples.\n",
      "  'precision', 'predicted', average, warn_for)\n",
      "/Users/michaelsachs/.pyenv/versions/3.7.0/envs/glow/lib/python3.7/site-packages/sklearn/metrics/classification.py:1143: UndefinedMetricWarning: Precision is ill-defined and being set to 0.0 due to no predicted samples.\n",
      "  'precision', 'predicted', average, warn_for)\n",
      "/Users/michaelsachs/.pyenv/versions/3.7.0/envs/glow/lib/python3.7/site-packages/sklearn/metrics/classification.py:1143: UndefinedMetricWarning: Precision is ill-defined and being set to 0.0 due to no predicted samples.\n",
      "  'precision', 'predicted', average, warn_for)\n"
     ]
    },
    {
     "name": "stderr",
     "output_type": "stream",
     "text": [
      "/Users/michaelsachs/.pyenv/versions/3.7.0/envs/glow/lib/python3.7/site-packages/sklearn/metrics/classification.py:1143: UndefinedMetricWarning: Precision is ill-defined and being set to 0.0 due to no predicted samples.\n",
      "  'precision', 'predicted', average, warn_for)\n",
      "/Users/michaelsachs/.pyenv/versions/3.7.0/envs/glow/lib/python3.7/site-packages/sklearn/metrics/classification.py:1143: UndefinedMetricWarning: Precision is ill-defined and being set to 0.0 due to no predicted samples.\n",
      "  'precision', 'predicted', average, warn_for)\n",
      "/Users/michaelsachs/.pyenv/versions/3.7.0/envs/glow/lib/python3.7/site-packages/sklearn/metrics/classification.py:1143: UndefinedMetricWarning: Precision is ill-defined and being set to 0.0 due to no predicted samples.\n",
      "  'precision', 'predicted', average, warn_for)\n",
      "/Users/michaelsachs/.pyenv/versions/3.7.0/envs/glow/lib/python3.7/site-packages/sklearn/metrics/classification.py:1143: UndefinedMetricWarning: Precision is ill-defined and being set to 0.0 due to no predicted samples.\n",
      "  'precision', 'predicted', average, warn_for)\n",
      "/Users/michaelsachs/.pyenv/versions/3.7.0/envs/glow/lib/python3.7/site-packages/sklearn/metrics/classification.py:1143: UndefinedMetricWarning: Precision is ill-defined and being set to 0.0 due to no predicted samples.\n",
      "  'precision', 'predicted', average, warn_for)\n",
      "/Users/michaelsachs/.pyenv/versions/3.7.0/envs/glow/lib/python3.7/site-packages/sklearn/metrics/classification.py:1143: UndefinedMetricWarning: Precision is ill-defined and being set to 0.0 due to no predicted samples.\n",
      "  'precision', 'predicted', average, warn_for)\n",
      "/Users/michaelsachs/.pyenv/versions/3.7.0/envs/glow/lib/python3.7/site-packages/sklearn/metrics/classification.py:1143: UndefinedMetricWarning: Precision is ill-defined and being set to 0.0 due to no predicted samples.\n",
      "  'precision', 'predicted', average, warn_for)\n",
      "/Users/michaelsachs/.pyenv/versions/3.7.0/envs/glow/lib/python3.7/site-packages/sklearn/metrics/classification.py:1143: UndefinedMetricWarning: Precision is ill-defined and being set to 0.0 due to no predicted samples.\n",
      "  'precision', 'predicted', average, warn_for)\n"
     ]
    }
   ],
   "source": [
    "train_sizes_gb, train_scores_gb, valid_scores_gb = learning_curve(\n",
    "    clf_gb, X, y, cv=5, train_sizes=np.linspace(0.01, 1, 25), scoring='precision'\n",
    ")"
   ]
  },
  {
   "cell_type": "code",
   "execution_count": null,
   "metadata": {},
   "outputs": [],
   "source": [
    "figsize = (800 / 72, 600 / 72)\n",
    "figplacement = [0, 0, 1, 1 ]\n",
    "    \n",
    "fig = plt.figure(figsize=figsize)\n",
    "ax = fig.add_axes(figplacement)\n",
    "ax.set_xlim(train_sizes_gb[0], train_sizes_gb[-1])\n",
    "ax.set_ylim(0, 1)\n",
    "ax.set_ylabel('score')\n",
    "ax.set_xlabel('training size')\n",
    "\n",
    "ax.plot(train_sizes_gb, np.mean(train_scores_gb, 1))\n",
    "ax.plot(train_sizes_gb, np.mean(valid_scores_gb, 1))\n",
    "ax.hlines(\n",
    "    np.mean([train_scores_gb[-1], valid_scores_gb[-1]]), train_sizes_gb[0], train_sizes_gb[-1], \n",
    "    color='gray', linestyle='dashed'\n",
    ")"
   ]
  },
  {
   "cell_type": "markdown",
   "metadata": {},
   "source": [
    "other models"
   ]
  },
  {
   "cell_type": "code",
   "execution_count": 317,
   "metadata": {},
   "outputs": [
    {
     "name": "stdout",
     "output_type": "stream",
     "text": [
      "Best score 0.006944444444444444\n",
      "Best params {'classifier__n_estimators': 10}\n"
     ]
    }
   ],
   "source": [
    "param_grid = {\n",
    "    'classifier__n_estimators': [10, 50, 100],\n",
    "}\n",
    "\n",
    "grid_rf = GridSearchCV(clf_rf, param_grid, cv=3, iid=False, scoring='recall')\n",
    "grid_rf.fit(X_train, y_train)\n",
    "print('Best score', grid_rf.best_score_)\n",
    "print('Best params', grid_rf.best_params_)"
   ]
  },
  {
   "cell_type": "code",
   "execution_count": 314,
   "metadata": {},
   "outputs": [
    {
     "name": "stdout",
     "output_type": "stream",
     "text": [
      "Best score 0.0\n",
      "Best params {'classifier__C': 0.1, 'classifier__max_iter': 10}\n"
     ]
    }
   ],
   "source": [
    "param_grid = {\n",
    "    'classifier__C': [0.1, 1, 10],\n",
    "    'classifier__max_iter': [10, 100, 500],\n",
    "}\n",
    "\n",
    "grid_lr = GridSearchCV(clf_lr, param_grid, cv=3, iid=False, scoring='recall')\n",
    "grid_lr.fit(X_train, y_train)\n",
    "print('Best score', grid_lr.best_score_)\n",
    "print('Best params', grid_lr.best_params_)"
   ]
  },
  {
   "cell_type": "code",
   "execution_count": 293,
   "metadata": {},
   "outputs": [
    {
     "name": "stdout",
     "output_type": "stream",
     "text": [
      "RandomForestClassifier 0.94704\n",
      "GradientBoostingClassifier 0.94724\n",
      "LogisticRegression 0.94724\n"
     ]
    }
   ],
   "source": [
    "print('RandomForestClassifier', grid_rf.score(X_test, y_test))\n",
    "print('GradientBoostingClassifier', grid_gb.score(X_test, y_test))\n",
    "print('LogisticRegression', grid_lr.score(X_test, y_test))"
   ]
  },
  {
   "cell_type": "code",
   "execution_count": 318,
   "metadata": {},
   "outputs": [
    {
     "name": "stdout",
     "output_type": "stream",
     "text": [
      "--grid_rf--\n",
      "|    5     |    78    |\n",
      "|   2643   |  47274   |\n",
      "Accuracy: 0.94558\n",
      "Precision: 0.060240963855421686\n",
      "Recall: 0.0018882175226586104\n",
      "F1: 0.003661662394727206\n",
      "\n",
      "--grid_lr--\n",
      "|    0     |    0     |\n",
      "|   2648   |  47352   |\n",
      "Accuracy: 0.94704\n",
      "Precision: 0.0\n",
      "Recall: 0.0\n",
      "F1: 0.0\n",
      "\n"
     ]
    },
    {
     "name": "stderr",
     "output_type": "stream",
     "text": [
      "/Users/michaelsachs/.pyenv/versions/3.7.0/envs/glow/lib/python3.7/site-packages/sklearn/metrics/classification.py:1143: UndefinedMetricWarning: Precision is ill-defined and being set to 0.0 due to no predicted samples.\n",
      "  'precision', 'predicted', average, warn_for)\n",
      "/Users/michaelsachs/.pyenv/versions/3.7.0/envs/glow/lib/python3.7/site-packages/sklearn/metrics/classification.py:1143: UndefinedMetricWarning: F-score is ill-defined and being set to 0.0 due to no predicted samples.\n",
      "  'precision', 'predicted', average, warn_for)\n"
     ]
    },
    {
     "name": "stdout",
     "output_type": "stream",
     "text": [
      "--grid_gb--\n",
      "|   572    |   382    |\n",
      "|   2076   |  46970   |\n",
      "Accuracy: 0.95084\n",
      "Precision: 0.59958071278826\n",
      "Recall: 0.21601208459214502\n",
      "F1: 0.3176013325930038\n",
      "\n"
     ]
    }
   ],
   "source": [
    "for model_type in ('grid_rf', 'grid_lr', 'grid_gb'):\n",
    "    y_pred = globals()[model_type].predict(X_test)\n",
    "\n",
    "    tn, fp, fn, tp = confusion_matrix(y_test, y_pred).ravel()\n",
    "    accuracy = accuracy_score(y_test, y_pred)\n",
    "    precision = precision_score(y_test, y_pred)\n",
    "    recall = recall_score(y_test, y_pred)\n",
    "    f1 = f1_score(y_test, y_pred)\n",
    "    \n",
    "    print(f'--{model_type}--')\n",
    "    print(f'|{tp:^10}|{fp:^10}|')\n",
    "    print(f'|{fn:^10}|{tn:^10}|')\n",
    "    print(f'Accuracy: {accuracy}')\n",
    "    print(f'Precision: {precision}')\n",
    "    print(f'Recall: {recall}')\n",
    "    print(f'F1: {f1}')\n",
    "    print()"
   ]
  },
  {
   "cell_type": "code",
   "execution_count": 303,
   "metadata": {},
   "outputs": [
    {
     "data": {
      "text/html": [
       "<div>\n",
       "<style scoped>\n",
       "    .dataframe tbody tr th:only-of-type {\n",
       "        vertical-align: middle;\n",
       "    }\n",
       "\n",
       "    .dataframe tbody tr th {\n",
       "        vertical-align: top;\n",
       "    }\n",
       "\n",
       "    .dataframe thead th {\n",
       "        text-align: right;\n",
       "    }\n",
       "</style>\n",
       "<table border=\"1\" class=\"dataframe\">\n",
       "  <thead>\n",
       "    <tr style=\"text-align: right;\">\n",
       "      <th></th>\n",
       "      <th>risk_score</th>\n",
       "      <th>gender</th>\n",
       "      <th>age</th>\n",
       "      <th>years_experience</th>\n",
       "      <th>role</th>\n",
       "      <th>company</th>\n",
       "      <th>state</th>\n",
       "      <th>hours_worked_per_week</th>\n",
       "    </tr>\n",
       "    <tr>\n",
       "      <th>had_accident</th>\n",
       "      <th></th>\n",
       "      <th></th>\n",
       "      <th></th>\n",
       "      <th></th>\n",
       "      <th></th>\n",
       "      <th></th>\n",
       "      <th></th>\n",
       "      <th></th>\n",
       "    </tr>\n",
       "  </thead>\n",
       "  <tbody>\n",
       "    <tr>\n",
       "      <th>False</th>\n",
       "      <td>47362</td>\n",
       "      <td>47362</td>\n",
       "      <td>47362</td>\n",
       "      <td>47362</td>\n",
       "      <td>47362</td>\n",
       "      <td>47362</td>\n",
       "      <td>47362</td>\n",
       "      <td>47362</td>\n",
       "    </tr>\n",
       "    <tr>\n",
       "      <th>True</th>\n",
       "      <td>2638</td>\n",
       "      <td>2638</td>\n",
       "      <td>2638</td>\n",
       "      <td>2638</td>\n",
       "      <td>2638</td>\n",
       "      <td>2638</td>\n",
       "      <td>2638</td>\n",
       "      <td>2638</td>\n",
       "    </tr>\n",
       "  </tbody>\n",
       "</table>\n",
       "</div>"
      ],
      "text/plain": [
       "              risk_score  gender    age  years_experience   role  company  \\\n",
       "had_accident                                                                \n",
       "False              47362   47362  47362             47362  47362    47362   \n",
       "True                2638    2638   2638              2638   2638     2638   \n",
       "\n",
       "              state  hours_worked_per_week  \n",
       "had_accident                                \n",
       "False         47362                  47362  \n",
       "True           2638                   2638  "
      ]
     },
     "execution_count": 303,
     "metadata": {},
     "output_type": "execute_result"
    }
   ],
   "source": [
    "pd.concat([X_test, y_test], axis=1).groupby(['had_accident']).count()"
   ]
  },
  {
   "cell_type": "code",
   "execution_count": 228,
   "metadata": {},
   "outputs": [],
   "source": [
    "pickle.dump(grid_lr, open('../glow_ml/models/predict_accident.pkl', 'wb'))\n",
    "pickle.dump(grid_gb, open('../glow_ml/models/predict_accident_gb.pkl', 'wb'))\n",
    "pickle.dump(grid_rf, open('../glow_ml/models/predict_accident_rf.pkl', 'wb'))"
   ]
  },
  {
   "cell_type": "markdown",
   "metadata": {},
   "source": [
    "More evaluation: validation curves"
   ]
  },
  {
   "cell_type": "code",
   "execution_count": 280,
   "metadata": {},
   "outputs": [],
   "source": [
    "param_range = np.linspace(0.001, 100, 10)\n",
    "train_score, val_score= validation_curve(\n",
    "    clf_lr, X_train, y_train,\n",
    "    'classifier__C', param_range, cv=2\n",
    ")"
   ]
  },
  {
   "cell_type": "code",
   "execution_count": 281,
   "metadata": {},
   "outputs": [
    {
     "data": {
      "image/png": "[encoded data removed]",
      "text/plain": [
       "<Figure size 432x288 with 1 Axes>"
      ]
     },
     "metadata": {
      "needs_background": "light"
     },
     "output_type": "display_data"
    }
   ],
   "source": [
    "plt.plot(param_range, np.median(train_score, 1), color='blue', label='training score')\n",
    "plt.plot(param_range, np.median(val_score, 1), color='red', label='validation score')\n",
    "# plt.plot(degree, np.median(train_score, 1), color='blue', alpha=0.3, linestyle='dashed')\n",
    "# plt.plot(degree, np.median(val_score, 1), color='red', alpha=0.3, linestyle='dashed')\n",
    "plt.legend(loc='lower center')\n",
    "plt.ylim(0.9, 1)\n",
    "plt.xlabel('degree')\n",
    "plt.ylabel('max_iter');"
   ]
  },
  {
   "cell_type": "markdown",
   "metadata": {},
   "source": [
    "More evaluation: learning curves"
   ]
  },
  {
   "cell_type": "code",
   "execution_count": 222,
   "metadata": {},
   "outputs": [],
   "source": [
    "train_sizes_gb, train_scores_gb, valid_scores_gb = learning_curve(\n",
    "    clf_gb, X, y, cv=5, train_sizes=np.linspace(0.01, 1, 25)\n",
    ")"
   ]
  },
  {
   "cell_type": "code",
   "execution_count": 224,
   "metadata": {},
   "outputs": [],
   "source": [
    "train_sizes_rf, train_scores_rf, valid_scores_rf = learning_curve(\n",
    "    clf_rf, X, y, cv=5, train_sizes=np.linspace(0.01, 1, 25)\n",
    ")"
   ]
  },
  {
   "cell_type": "code",
   "execution_count": 226,
   "metadata": {},
   "outputs": [],
   "source": [
    "train_sizes_lr, train_scores_lr, valid_scores_lr = learning_curve(\n",
    "    clf_lr, X, y, cv=5, train_sizes=np.linspace(0.01, 1, 25)\n",
    ")"
   ]
  },
  {
   "cell_type": "code",
   "execution_count": 223,
   "metadata": {},
   "outputs": [
    {
     "data": {
      "text/plain": [
       "<matplotlib.collections.LineCollection at 0x1133aed68>"
      ]
     },
     "execution_count": 223,
     "metadata": {},
     "output_type": "execute_result"
    },
    {
     "data": {
      "image/png": "[encoded data removed]",
      "text/plain": [
       "<Figure size 800x600 with 1 Axes>"
      ]
     },
     "metadata": {
      "needs_background": "light"
     },
     "output_type": "display_data"
    }
   ],
   "source": [
    "figsize = (800 / 72, 600 / 72)\n",
    "figplacement = [0, 0, 1, 1 ]\n",
    "    \n",
    "fig = plt.figure(figsize=figsize)\n",
    "ax = fig.add_axes(figplacement)\n",
    "ax.set_xlim(train_sizes_gb[0], train_sizes_gb[-1])\n",
    "ax.set_ylim(0.8, 1.1)\n",
    "ax.set_ylabel('score')\n",
    "ax.set_xlabel('training size')\n",
    "\n",
    "ax.plot(train_sizes_gb, np.mean(train_scores_gb, 1))\n",
    "ax.plot(train_sizes_gb, np.mean(valid_scores_gb, 1))\n",
    "ax.hlines(\n",
    "    np.mean([train_scores_gb[-1], valid_scores_gb[-1]]), train_sizes_gb[0], train_sizes_gb[-1], \n",
    "    color='gray', linestyle='dashed'\n",
    ")"
   ]
  },
  {
   "cell_type": "code",
   "execution_count": 225,
   "metadata": {},
   "outputs": [
    {
     "data": {
      "text/plain": [
       "<matplotlib.collections.LineCollection at 0x111474f60>"
      ]
     },
     "execution_count": 225,
     "metadata": {},
     "output_type": "execute_result"
    },
    {
     "data": {
      "image/png": "[encoded data removed]",
      "text/plain": [
       "<Figure size 800x600 with 1 Axes>"
      ]
     },
     "metadata": {
      "needs_background": "light"
     },
     "output_type": "display_data"
    }
   ],
   "source": [
    "figsize = (800 / 72, 600 / 72)\n",
    "figplacement = [0, 0, 1, 1 ]\n",
    "    \n",
    "fig = plt.figure(figsize=figsize)\n",
    "ax = fig.add_axes(figplacement)\n",
    "ax.set_xlim(train_sizes_rf[0], train_sizes_rf[-1])\n",
    "ax.set_ylim(0.8, 1.1)\n",
    "ax.set_ylabel('score')\n",
    "ax.set_xlabel('training size')\n",
    "\n",
    "ax.plot(train_sizes_rf, np.mean(train_scores_rf, 1))\n",
    "ax.plot(train_sizes_rf, np.mean(valid_scores_rf, 1))\n",
    "ax.hlines(\n",
    "    np.mean([train_scores_rf[-1], valid_scores_rf[-1]]), train_sizes_rf[0], train_sizes_rf[-1], \n",
    "    color='gray', linestyle='dashed'\n",
    ")"
   ]
  },
  {
   "cell_type": "code",
   "execution_count": 227,
   "metadata": {
    "scrolled": false
   },
   "outputs": [
    {
     "data": {
      "text/plain": [
       "<matplotlib.collections.LineCollection at 0x110950cc0>"
      ]
     },
     "execution_count": 227,
     "metadata": {},
     "output_type": "execute_result"
    },
    {
     "data": {
      "image/png": "[encoded data removed]",
      "text/plain": [
       "<Figure size 800x600 with 1 Axes>"
      ]
     },
     "metadata": {
      "needs_background": "light"
     },
     "output_type": "display_data"
    }
   ],
   "source": [
    "figsize = (800 / 72, 600 / 72)\n",
    "figplacement = [0, 0, 1, 1 ]\n",
    "    \n",
    "fig = plt.figure(figsize=figsize)\n",
    "ax = fig.add_axes(figplacement)\n",
    "ax.set_xlim(train_sizes_lr[0], train_sizes_lr[-1])\n",
    "ax.set_ylim(0.8, 1.1)\n",
    "ax.set_ylabel('score')\n",
    "ax.set_xlabel('training size')\n",
    "\n",
    "ax.plot(train_sizes_lr, np.mean(train_scores_lr, 1))\n",
    "ax.plot(train_sizes_lr, np.mean(valid_scores_lr, 1))\n",
    "ax.hlines(\n",
    "    np.mean([train_scores_lr[-1], valid_scores_lr[-1]]), train_sizes_lr[0], train_sizes_lr[-1], \n",
    "    color='gray', linestyle='dashed'\n",
    ")"
   ]
  },
  {
   "cell_type": "markdown",
   "metadata": {},
   "source": [
    "# Sandbox"
   ]
  },
  {
   "cell_type": "code",
   "execution_count": null,
   "metadata": {},
   "outputs": [],
   "source": []
  },
  {
   "cell_type": "code",
   "execution_count": 158,
   "metadata": {},
   "outputs": [
    {
     "ename": "TypeError",
     "evalue": "'Pipeline' object is not iterable",
     "output_type": "error",
     "traceback": [
      "\u001b[0;31m---------------------------------------------------------------------------\u001b[0m",
      "\u001b[0;31mTypeError\u001b[0m                                 Traceback (most recent call last)",
      "\u001b[0;32m<ipython-input-158-565822f85880>\u001b[0m in \u001b[0;36m<module>\u001b[0;34m\u001b[0m\n\u001b[0;32m----> 1\u001b[0;31m \u001b[0miter\u001b[0m\u001b[0;34m(\u001b[0m\u001b[0mclf_rf\u001b[0m\u001b[0;34m)\u001b[0m\u001b[0;34m\u001b[0m\u001b[0m\n\u001b[0m",
      "\u001b[0;31mTypeError\u001b[0m: 'Pipeline' object is not iterable"
     ]
    }
   ],
   "source": [
    "iter(clf_rf)"
   ]
  },
  {
   "cell_type": "code",
   "execution_count": 54,
   "metadata": {},
   "outputs": [
    {
     "data": {
      "text/plain": [
       "array([0.21488511, 0.16278686, 0.15308707, 0.23668021, 0.01136321,\n",
       "       0.0115617 , 0.00775483, 0.00749966, 0.00162614, 0.00172132,\n",
       "       0.00184867, 0.00121644, 0.00165847, 0.00156642, 0.00188239,\n",
       "       0.00162943, 0.00150145, 0.00167078, 0.00166597, 0.00163113,\n",
       "       0.00148864, 0.00159195, 0.00171374, 0.00147427, 0.00157231,\n",
       "       0.0015751 , 0.00166169, 0.00159031, 0.00164403, 0.0015754 ,\n",
       "       0.00155372, 0.00163562, 0.00177216, 0.00155706, 0.00154994,\n",
       "       0.00170553, 0.00166749, 0.00166762, 0.00165166, 0.00178198,\n",
       "       0.00117346, 0.00151713, 0.00154522, 0.00199813, 0.00171574,\n",
       "       0.0017868 , 0.00172737, 0.00169423, 0.00154478, 0.00116728,\n",
       "       0.00174009, 0.0013667 , 0.00132052, 0.00159327, 0.00159598,\n",
       "       0.00180388, 0.00140929, 0.00180862, 0.00122017, 0.00180897,\n",
       "       0.00155924, 0.00157579, 0.00163189, 0.00159631, 0.00178493,\n",
       "       0.00172729, 0.00176927, 0.00168934, 0.00175755, 0.00155772,\n",
       "       0.00136073, 0.00166063, 0.00166687, 0.00173107, 0.00180869,\n",
       "       0.00165378, 0.00175982, 0.00183327, 0.00175485, 0.00151088,\n",
       "       0.00132131, 0.00156541, 0.00160608, 0.00158694, 0.00172842,\n",
       "       0.00128858, 0.00177227, 0.00160806, 0.00171024, 0.00173816,\n",
       "       0.0012063 , 0.00170552, 0.00180965, 0.00183822, 0.00182105,\n",
       "       0.00162623, 0.00154044, 0.00173571, 0.0016868 , 0.0016962 ,\n",
       "       0.00153729, 0.00140543, 0.00160343, 0.00157908, 0.00168427,\n",
       "       0.00167469, 0.00146158, 0.00158587, 0.00316545, 0.00317045,\n",
       "       0.00321913, 0.00343103, 0.00312857, 0.00327826, 0.00332055,\n",
       "       0.00311141, 0.00333369, 0.0031232 ])"
      ]
     },
     "execution_count": 54,
     "metadata": {},
     "output_type": "execute_result"
    }
   ],
   "source": [
    "grid_search.best_estimator_.named_steps['classifier'].feature_importances_"
   ]
  },
  {
   "cell_type": "code",
   "execution_count": 77,
   "metadata": {
    "scrolled": false
   },
   "outputs": [
    {
     "data": {
      "text/plain": [
       "['preprocessor__cat__onehot',\n",
       " 'preprocessor__cat__onehot__categorical_features',\n",
       " 'preprocessor__cat__onehot__categories',\n",
       " 'preprocessor__cat__onehot__dtype',\n",
       " 'preprocessor__cat__onehot__handle_unknown',\n",
       " 'preprocessor__cat__onehot__n_values',\n",
       " 'preprocessor__cat__onehot__sparse']"
      ]
     },
     "execution_count": 77,
     "metadata": {},
     "output_type": "execute_result"
    }
   ],
   "source": [
    "[x for x in grid_search.best_estimator_.get_params(deep=True) if 'preprocessor__cat__onehot' in x] # .named_steps  # ['preprocessor'].transformers[1][1].steps[1][1]"
   ]
  },
  {
   "cell_type": "code",
   "execution_count": 94,
   "metadata": {},
   "outputs": [
    {
     "ename": "NotFittedError",
     "evalue": "This OneHotEncoder instance is not fitted yet. Call 'fit' with appropriate arguments before using this method.",
     "output_type": "error",
     "traceback": [
      "\u001b[0;31m---------------------------------------------------------------------------\u001b[0m",
      "\u001b[0;31mNotFittedError\u001b[0m                            Traceback (most recent call last)",
      "\u001b[0;32m<ipython-input-94-27c638b87cfe>\u001b[0m in \u001b[0;36m<module>\u001b[0;34m\u001b[0m\n\u001b[0;32m----> 1\u001b[0;31m \u001b[0mgrid_search\u001b[0m\u001b[0;34m.\u001b[0m\u001b[0mbest_estimator_\u001b[0m\u001b[0;34m.\u001b[0m\u001b[0mnamed_steps\u001b[0m\u001b[0;34m[\u001b[0m\u001b[0;34m'preprocessor'\u001b[0m\u001b[0;34m]\u001b[0m\u001b[0;34m.\u001b[0m\u001b[0mtransformers\u001b[0m\u001b[0;34m[\u001b[0m\u001b[0;36m1\u001b[0m\u001b[0;34m]\u001b[0m\u001b[0;34m[\u001b[0m\u001b[0;36m1\u001b[0m\u001b[0;34m]\u001b[0m\u001b[0;34m.\u001b[0m\u001b[0mnamed_steps\u001b[0m\u001b[0;34m[\u001b[0m\u001b[0;34m'onehot'\u001b[0m\u001b[0;34m]\u001b[0m\u001b[0;34m.\u001b[0m\u001b[0mget_feature_names\u001b[0m\u001b[0;34m(\u001b[0m\u001b[0;34m)\u001b[0m\u001b[0;34m\u001b[0m\u001b[0m\n\u001b[0m\u001b[1;32m      2\u001b[0m \u001b[0;34m\u001b[0m\u001b[0m\n\u001b[1;32m      3\u001b[0m \u001b[0;31m# .get_params(deep=True)['preprocessor__cat__onehot'].get_feature_names()\u001b[0m\u001b[0;34m\u001b[0m\u001b[0;34m\u001b[0m\u001b[0m\n",
      "\u001b[0;32m~/.pyenv/versions/3.7.0/envs/glow/lib/python3.7/site-packages/sklearn/preprocessing/_encoders.py\u001b[0m in \u001b[0;36mget_feature_names\u001b[0;34m(self, input_features)\u001b[0m\n\u001b[1;32m    672\u001b[0m \u001b[0;34m\u001b[0m\u001b[0m\n\u001b[1;32m    673\u001b[0m         \"\"\"\n\u001b[0;32m--> 674\u001b[0;31m         \u001b[0mcheck_is_fitted\u001b[0m\u001b[0;34m(\u001b[0m\u001b[0mself\u001b[0m\u001b[0;34m,\u001b[0m \u001b[0;34m'categories_'\u001b[0m\u001b[0;34m)\u001b[0m\u001b[0;34m\u001b[0m\u001b[0m\n\u001b[0m\u001b[1;32m    675\u001b[0m         \u001b[0mcats\u001b[0m \u001b[0;34m=\u001b[0m \u001b[0mself\u001b[0m\u001b[0;34m.\u001b[0m\u001b[0mcategories_\u001b[0m\u001b[0;34m\u001b[0m\u001b[0m\n\u001b[1;32m    676\u001b[0m         \u001b[0;32mif\u001b[0m \u001b[0minput_features\u001b[0m \u001b[0;32mis\u001b[0m \u001b[0;32mNone\u001b[0m\u001b[0;34m:\u001b[0m\u001b[0;34m\u001b[0m\u001b[0m\n",
      "\u001b[0;32m~/.pyenv/versions/3.7.0/envs/glow/lib/python3.7/site-packages/sklearn/utils/validation.py\u001b[0m in \u001b[0;36mcheck_is_fitted\u001b[0;34m(estimator, attributes, msg, all_or_any)\u001b[0m\n\u001b[1;32m    940\u001b[0m \u001b[0;34m\u001b[0m\u001b[0m\n\u001b[1;32m    941\u001b[0m     \u001b[0;32mif\u001b[0m \u001b[0;32mnot\u001b[0m \u001b[0mall_or_any\u001b[0m\u001b[0;34m(\u001b[0m\u001b[0;34m[\u001b[0m\u001b[0mhasattr\u001b[0m\u001b[0;34m(\u001b[0m\u001b[0mestimator\u001b[0m\u001b[0;34m,\u001b[0m \u001b[0mattr\u001b[0m\u001b[0;34m)\u001b[0m \u001b[0;32mfor\u001b[0m \u001b[0mattr\u001b[0m \u001b[0;32min\u001b[0m \u001b[0mattributes\u001b[0m\u001b[0;34m]\u001b[0m\u001b[0;34m)\u001b[0m\u001b[0;34m:\u001b[0m\u001b[0;34m\u001b[0m\u001b[0m\n\u001b[0;32m--> 942\u001b[0;31m         \u001b[0;32mraise\u001b[0m \u001b[0mNotFittedError\u001b[0m\u001b[0;34m(\u001b[0m\u001b[0mmsg\u001b[0m \u001b[0;34m%\u001b[0m \u001b[0;34m{\u001b[0m\u001b[0;34m'name'\u001b[0m\u001b[0;34m:\u001b[0m \u001b[0mtype\u001b[0m\u001b[0;34m(\u001b[0m\u001b[0mestimator\u001b[0m\u001b[0;34m)\u001b[0m\u001b[0;34m.\u001b[0m\u001b[0m__name__\u001b[0m\u001b[0;34m}\u001b[0m\u001b[0;34m)\u001b[0m\u001b[0;34m\u001b[0m\u001b[0m\n\u001b[0m\u001b[1;32m    943\u001b[0m \u001b[0;34m\u001b[0m\u001b[0m\n\u001b[1;32m    944\u001b[0m \u001b[0;34m\u001b[0m\u001b[0m\n",
      "\u001b[0;31mNotFittedError\u001b[0m: This OneHotEncoder instance is not fitted yet. Call 'fit' with appropriate arguments before using this method."
     ]
    }
   ],
   "source": [
    "grid_search.best_estimator_.named_steps['preprocessor'].transformers[1][1].named_steps['onehot'].get_feature_names()\n",
    "\n",
    "# .get_params(deep=True)['preprocessor__cat__onehot'].get_feature_names()"
   ]
  },
  {
   "cell_type": "code",
   "execution_count": 56,
   "metadata": {},
   "outputs": [
    {
     "data": {
      "text/plain": [
       "Index(['risk_score', 'gender', 'age', 'years_experience', 'role', 'company',\n",
       "       'state', 'hours_worked_per_week'],\n",
       "      dtype='object')"
      ]
     },
     "execution_count": 56,
     "metadata": {},
     "output_type": "execute_result"
    }
   ],
   "source": [
    "X.columns"
   ]
  },
  {
   "cell_type": "code",
   "execution_count": 45,
   "metadata": {},
   "outputs": [
    {
     "name": "stdout",
     "output_type": "stream",
     "text": [
      "best logistic regression from grid search: 0.946\n"
     ]
    }
   ],
   "source": [
    "clf = Pipeline(steps=[('preprocessor', preprocessor),\n",
    "                      ('classifier', LogisticRegression(solver='saga'))])\n",
    "\n",
    "X = raw_data.drop('had_accident', axis=1)\n",
    "y = raw_data['had_accident']\n",
    "\n",
    "X_train, X_test, y_train, y_test = train_test_split(X, y, test_size=0.2)\n",
    "\n",
    "param_grid = {\n",
    "#     'preprocessor__num__imputer__strategy': ['mean', 'median'],\n",
    "    'classifier__C': [0.1, 1, 10],\n",
    "    'classifier__max_iter': [10, 100, 1000],\n",
    "}\n",
    "\n",
    "grid_search_lr = GridSearchCV(clf, param_grid, cv=10, iid=False)\n",
    "grid_search_lr.fit(X_train, y_train)\n",
    "\n",
    "print((\"best logistic regression from grid search: %.3f\"\n",
    "       % grid_search_lr.score(X_test, y_test)))"
   ]
  },
  {
   "cell_type": "code",
   "execution_count": 47,
   "metadata": {},
   "outputs": [
    {
     "name": "stdout",
     "output_type": "stream",
     "text": [
      "best logistic regression from grid search: 0.946\n",
      "best random forest from grid search: 0.989\n"
     ]
    }
   ],
   "source": [
    "print((\"best logistic regression from grid search: %.3f\"\n",
    "       % grid_search_lr.score(X_test, y_test)))\n",
    "print((\"best random forest from grid search: %.3f\"\n",
    "       % grid_search.score(X_test, y_test)))"
   ]
  },
  {
   "cell_type": "markdown",
   "metadata": {},
   "source": [
    "Featurize the data two ways. `f_data_a` encodes `role` and `gender` but leaves `state` and `company` as ordinal data. `f_data_b` encodes all the categorical fields."
   ]
  },
  {
   "cell_type": "code",
   "execution_count": 3,
   "metadata": {},
   "outputs": [],
   "source": [
    "f_data_a = pd.concat([raw_data, pd.get_dummies(raw_data['role'])], axis=1)\n",
    "f_data_a = pd.concat([f_data_a, pd.get_dummies(f_data_a['gender'])], axis=1)\n",
    "f_data_a = f_data_a[[x for x in f_data_a.columns if x not in ('gender', 'role')]]\n",
    "f_data_a['had_accident'] = f_data_a['had_accident'].apply(lambda x: 1 if x else 0)\n",
    "\n",
    "f_data_b = pd.concat([raw_data, pd.get_dummies(raw_data['role'])], axis=1)\n",
    "f_data_b = pd.concat([f_data_b, pd.get_dummies(f_data_b['gender'])], axis=1)\n",
    "f_data_b = pd.concat(\n",
    "    [f_data_b, pd.get_dummies(f_data_b['state'].apply(lambda x: int(x)), prefix='state')],\n",
    "    axis=1\n",
    ")\n",
    "f_data_b = pd.concat(\n",
    "    [f_data_b, pd.get_dummies(f_data_b['company'].apply(lambda x: int(x)), prefix='company')], \n",
    "    axis=1\n",
    ")\n",
    "f_data_b = f_data_b[\n",
    "    [x for x in f_data_b.columns if x not in ('gender', 'role', 'company', 'state')]\n",
    "]\n",
    "f_data_b['had_accident'] = f_data_b['had_accident'].apply(lambda x: 1 if x else 0)"
   ]
  },
  {
   "cell_type": "markdown",
   "metadata": {},
   "source": [
    "Split the data into features and targets"
   ]
  },
  {
   "cell_type": "code",
   "execution_count": 5,
   "metadata": {},
   "outputs": [],
   "source": [
    "X_a = f_data_a[[x for x in f_data_a.columns if x != 'had_accident']]\n",
    "y_a = f_data_a['had_accident']\n",
    "\n",
    "X_b = f_data_b[[x for x in f_data_b.columns if x != 'had_accident']]\n",
    "y_b = f_data_b['had_accident']"
   ]
  },
  {
   "cell_type": "markdown",
   "metadata": {},
   "source": [
    "Look at the variance of the features"
   ]
  },
  {
   "cell_type": "code",
   "execution_count": 5,
   "metadata": {},
   "outputs": [
    {
     "data": {
      "text/plain": [
       "Text(0, 0.5, 'cumulative explained variance')"
      ]
     },
     "execution_count": 5,
     "metadata": {},
     "output_type": "execute_result"
    },
    {
     "data": {
      "image/png": "[encoded data removed]",
      "text/plain": [
       "<Figure size 432x288 with 1 Axes>"
      ]
     },
     "metadata": {
      "needs_background": "light"
     },
     "output_type": "display_data"
    }
   ],
   "source": [
    "pca = PCA().fit(X_a)\n",
    "plt.plot(np.cumsum(pca.explained_variance_ratio_))\n",
    "plt.xlabel('number of components')\n",
    "plt.ylabel('cumulative explained variance')"
   ]
  },
  {
   "cell_type": "code",
   "execution_count": 6,
   "metadata": {},
   "outputs": [
    {
     "data": {
      "text/plain": [
       "Text(0, 0.5, 'cumulative explained variance')"
      ]
     },
     "execution_count": 6,
     "metadata": {},
     "output_type": "execute_result"
    },
    {
     "data": {
      "image/png": "[encoded data removed]",
      "text/plain": [
       "<Figure size 432x288 with 1 Axes>"
      ]
     },
     "metadata": {
      "needs_background": "light"
     },
     "output_type": "display_data"
    }
   ],
   "source": [
    "pca = PCA().fit(X_b)\n",
    "plt.plot(np.cumsum(pca.explained_variance_ratio_))\n",
    "plt.xlabel('number of components')\n",
    "plt.ylabel('cumulative explained variance')"
   ]
  },
  {
   "cell_type": "markdown",
   "metadata": {},
   "source": [
    "Start modeling"
   ]
  },
  {
   "cell_type": "code",
   "execution_count": 6,
   "metadata": {},
   "outputs": [
    {
     "name": "stdout",
     "output_type": "stream",
     "text": [
      "A\n",
      "scores [0.94615269 0.94615    0.94615    0.94615    0.94619731]\n",
      "mean 0.9461600004461751\n",
      "std 1.8683830366640557e-05\n",
      "B\n",
      "scores [0.94615269 0.94615    0.94615    0.94615    0.94619731]\n",
      "mean 0.9461600004461751\n",
      "std 1.8683830366640557e-05\n"
     ]
    }
   ],
   "source": [
    "lr_clf = LogisticRegression(solver='saga', max_iter=1000, warm_start=True)\n",
    "scores_a = cross_val_score(lr_clf, X_a, y_a, cv=5)\n",
    "scores_b = cross_val_score(lr_clf, X_b, y_b, cv=5)\n",
    "print('A')\n",
    "print('scores', scores_a)\n",
    "print('mean', scores_a.mean())\n",
    "print('std', scores_a.std())\n",
    "print('B')\n",
    "print('scores', scores_b)\n",
    "print('mean', scores_b.mean())\n",
    "print('std', scores_b.std())"
   ]
  },
  {
   "cell_type": "code",
   "execution_count": null,
   "metadata": {},
   "outputs": [],
   "source": []
  },
  {
   "cell_type": "code",
   "execution_count": 7,
   "metadata": {},
   "outputs": [
    {
     "name": "stdout",
     "output_type": "stream",
     "text": [
      "<class 'sklearn.naive_bayes.GaussianNB'>\n",
      "[0.94615269 0.94615    0.94615    0.94615    0.94619731]\n",
      "\n",
      "<class 'sklearn.linear_model.logistic.LogisticRegression'>\n"
     ]
    },
    {
     "name": "stderr",
     "output_type": "stream",
     "text": [
      "/Users/michaelsachs/.pyenv/versions/3.7.0/envs/glow/lib/python3.7/site-packages/sklearn/linear_model/logistic.py:432: FutureWarning: Default solver will be changed to 'lbfgs' in 0.22. Specify a solver to silence this warning.\n",
      "  FutureWarning)\n",
      "/Users/michaelsachs/.pyenv/versions/3.7.0/envs/glow/lib/python3.7/site-packages/sklearn/linear_model/logistic.py:432: FutureWarning: Default solver will be changed to 'lbfgs' in 0.22. Specify a solver to silence this warning.\n",
      "  FutureWarning)\n",
      "/Users/michaelsachs/.pyenv/versions/3.7.0/envs/glow/lib/python3.7/site-packages/sklearn/linear_model/logistic.py:432: FutureWarning: Default solver will be changed to 'lbfgs' in 0.22. Specify a solver to silence this warning.\n",
      "  FutureWarning)\n",
      "/Users/michaelsachs/.pyenv/versions/3.7.0/envs/glow/lib/python3.7/site-packages/sklearn/linear_model/logistic.py:432: FutureWarning: Default solver will be changed to 'lbfgs' in 0.22. Specify a solver to silence this warning.\n",
      "  FutureWarning)\n",
      "/Users/michaelsachs/.pyenv/versions/3.7.0/envs/glow/lib/python3.7/site-packages/sklearn/linear_model/logistic.py:432: FutureWarning: Default solver will be changed to 'lbfgs' in 0.22. Specify a solver to silence this warning.\n",
      "  FutureWarning)\n"
     ]
    },
    {
     "name": "stdout",
     "output_type": "stream",
     "text": [
      "[0.94615269 0.94615    0.94615    0.94615    0.94619731]\n",
      "\n",
      "<class 'sklearn.ensemble.forest.RandomForestClassifier'>\n"
     ]
    },
    {
     "name": "stderr",
     "output_type": "stream",
     "text": [
      "/Users/michaelsachs/.pyenv/versions/3.7.0/envs/glow/lib/python3.7/site-packages/sklearn/ensemble/forest.py:248: FutureWarning: The default value of n_estimators will change from 10 in version 0.20 to 100 in 0.22.\n",
      "  \"10 in version 0.20 to 100 in 0.22.\", FutureWarning)\n",
      "/Users/michaelsachs/.pyenv/versions/3.7.0/envs/glow/lib/python3.7/site-packages/sklearn/ensemble/forest.py:248: FutureWarning: The default value of n_estimators will change from 10 in version 0.20 to 100 in 0.22.\n",
      "  \"10 in version 0.20 to 100 in 0.22.\", FutureWarning)\n",
      "/Users/michaelsachs/.pyenv/versions/3.7.0/envs/glow/lib/python3.7/site-packages/sklearn/ensemble/forest.py:248: FutureWarning: The default value of n_estimators will change from 10 in version 0.20 to 100 in 0.22.\n",
      "  \"10 in version 0.20 to 100 in 0.22.\", FutureWarning)\n",
      "/Users/michaelsachs/.pyenv/versions/3.7.0/envs/glow/lib/python3.7/site-packages/sklearn/ensemble/forest.py:248: FutureWarning: The default value of n_estimators will change from 10 in version 0.20 to 100 in 0.22.\n",
      "  \"10 in version 0.20 to 100 in 0.22.\", FutureWarning)\n",
      "/Users/michaelsachs/.pyenv/versions/3.7.0/envs/glow/lib/python3.7/site-packages/sklearn/ensemble/forest.py:248: FutureWarning: The default value of n_estimators will change from 10 in version 0.20 to 100 in 0.22.\n",
      "  \"10 in version 0.20 to 100 in 0.22.\", FutureWarning)\n"
     ]
    },
    {
     "name": "stdout",
     "output_type": "stream",
     "text": [
      "[0.94515274 0.9452     0.94515    0.945      0.94544727]\n",
      "\n"
     ]
    }
   ],
   "source": [
    "for clf_class in all_classifiers:\n",
    "    print(clf_class)\n",
    "    clf = clf_class()\n",
    "    scores = cross_val_score(clf, X_a, y_a, cv=5)\n",
    "    print(scores)\n",
    "    print()"
   ]
  },
  {
   "cell_type": "code",
   "execution_count": 9,
   "metadata": {},
   "outputs": [
    {
     "name": "stdout",
     "output_type": "stream",
     "text": [
      "<class 'sklearn.naive_bayes.GaussianNB'>\n",
      "0.6289001361344253\n",
      "\n",
      "<class 'sklearn.linear_model.logistic.LogisticRegression'>\n"
     ]
    },
    {
     "name": "stderr",
     "output_type": "stream",
     "text": [
      "/Users/michaelsachs/.pyenv/versions/3.7.0/envs/glow/lib/python3.7/site-packages/sklearn/linear_model/logistic.py:432: FutureWarning: Default solver will be changed to 'lbfgs' in 0.22. Specify a solver to silence this warning.\n",
      "  FutureWarning)\n",
      "/Users/michaelsachs/.pyenv/versions/3.7.0/envs/glow/lib/python3.7/site-packages/sklearn/linear_model/logistic.py:432: FutureWarning: Default solver will be changed to 'lbfgs' in 0.22. Specify a solver to silence this warning.\n",
      "  FutureWarning)\n",
      "/Users/michaelsachs/.pyenv/versions/3.7.0/envs/glow/lib/python3.7/site-packages/sklearn/linear_model/logistic.py:432: FutureWarning: Default solver will be changed to 'lbfgs' in 0.22. Specify a solver to silence this warning.\n",
      "  FutureWarning)\n",
      "/Users/michaelsachs/.pyenv/versions/3.7.0/envs/glow/lib/python3.7/site-packages/sklearn/linear_model/logistic.py:432: FutureWarning: Default solver will be changed to 'lbfgs' in 0.22. Specify a solver to silence this warning.\n",
      "  FutureWarning)\n",
      "/Users/michaelsachs/.pyenv/versions/3.7.0/envs/glow/lib/python3.7/site-packages/sklearn/linear_model/logistic.py:432: FutureWarning: Default solver will be changed to 'lbfgs' in 0.22. Specify a solver to silence this warning.\n",
      "  FutureWarning)\n"
     ]
    },
    {
     "name": "stdout",
     "output_type": "stream",
     "text": [
      "0.9461600004461751\n",
      "\n",
      "<class 'sklearn.ensemble.forest.RandomForestClassifier'>\n"
     ]
    },
    {
     "name": "stderr",
     "output_type": "stream",
     "text": [
      "/Users/michaelsachs/.pyenv/versions/3.7.0/envs/glow/lib/python3.7/site-packages/sklearn/ensemble/forest.py:248: FutureWarning: The default value of n_estimators will change from 10 in version 0.20 to 100 in 0.22.\n",
      "  \"10 in version 0.20 to 100 in 0.22.\", FutureWarning)\n",
      "/Users/michaelsachs/.pyenv/versions/3.7.0/envs/glow/lib/python3.7/site-packages/sklearn/ensemble/forest.py:248: FutureWarning: The default value of n_estimators will change from 10 in version 0.20 to 100 in 0.22.\n",
      "  \"10 in version 0.20 to 100 in 0.22.\", FutureWarning)\n",
      "/Users/michaelsachs/.pyenv/versions/3.7.0/envs/glow/lib/python3.7/site-packages/sklearn/ensemble/forest.py:248: FutureWarning: The default value of n_estimators will change from 10 in version 0.20 to 100 in 0.22.\n",
      "  \"10 in version 0.20 to 100 in 0.22.\", FutureWarning)\n",
      "/Users/michaelsachs/.pyenv/versions/3.7.0/envs/glow/lib/python3.7/site-packages/sklearn/ensemble/forest.py:248: FutureWarning: The default value of n_estimators will change from 10 in version 0.20 to 100 in 0.22.\n",
      "  \"10 in version 0.20 to 100 in 0.22.\", FutureWarning)\n",
      "/Users/michaelsachs/.pyenv/versions/3.7.0/envs/glow/lib/python3.7/site-packages/sklearn/ensemble/forest.py:248: FutureWarning: The default value of n_estimators will change from 10 in version 0.20 to 100 in 0.22.\n",
      "  \"10 in version 0.20 to 100 in 0.22.\", FutureWarning)\n"
     ]
    },
    {
     "name": "stdout",
     "output_type": "stream",
     "text": [
      "0.9450100044452251\n",
      "\n"
     ]
    }
   ],
   "source": [
    "for clf_class in all_classifiers:\n",
    "    print(clf_class)\n",
    "    clf = clf_class()\n",
    "    scores = cross_val_score(clf, X_b, y_b, cv=5)\n",
    "    print(scores.mean())\n",
    "    print()"
   ]
  }
 ],
 "metadata": {
  "kernelspec": {
   "display_name": "Python 3",
   "language": "python",
   "name": "python3"
  },
  "language_info": {
   "codemirror_mode": {
    "name": "ipython",
    "version": 3
   },
   "file_extension": ".py",
   "mimetype": "text/x-python",
   "name": "python",
   "nbconvert_exporter": "python",
   "pygments_lexer": "ipython3",
   "version": "3.7.0"
  }
 },
 "nbformat": 4,
 "nbformat_minor": 2
}
